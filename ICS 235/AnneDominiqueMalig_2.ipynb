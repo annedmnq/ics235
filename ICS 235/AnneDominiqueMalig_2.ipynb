{
 "cells": [
  {
   "cell_type": "markdown",
   "id": "3ffd9462",
   "metadata": {},
   "source": [
    "# ICS 235 Homework Assignment 2\n",
    "# <span style=\"color:red\">Due: 11:55 PM on Monday, October 7</span>"
   ]
  },
  {
   "cell_type": "markdown",
   "id": "ccd02947",
   "metadata": {},
   "source": [
    "## Instructions\n",
    "\n",
    "1. Name your notebook file using your last and first name as presented in Laulima.\n",
    "    - For example, Harry, Potter ==> HarryPotter_2.ipynb (The number at the end is the assignment number.)\n",
    "2. Only use .ipynb file extensions. Other extensions (file formats) like .rtf, .zip, .docs, .pdf are not accepted.\n",
    "3. Data files will be available to the instructor, so no need to upload them to Laulima. Make sure you use the same filenames of data files as given in the homework.\n",
    "4. Save data files in **\"data\" folder under your working directory**. Use **relative path** when you read in data in your code.\n",
    "5. Do not create any subfolders in your Drop Box.\n",
    "6. **Do not modify or delete the provided code unless instructed to do so.**\n",
    "7. Clean your code before submission.\n",
    "    - If needed, provide clear documentation describing the purpose and how to use every class or function in your code.\n",
    "    - Your submission should **show only the required outputs**. \n",
    "8. Run your code before submission to **show all outputs in the submitted file**. \n",
    "10. Write your full name in the cell below.\n",
    "***"
   ]
  },
  {
   "cell_type": "markdown",
   "id": "240d50e8",
   "metadata": {},
   "source": [
    "## Your Name: Anne Dominique Malig\n",
    "***"
   ]
  },
  {
   "cell_type": "markdown",
   "id": "b4c4163c",
   "metadata": {},
   "source": [
    "# Exercise 1: Regularization (65 points)"
   ]
  },
  {
   "cell_type": "markdown",
   "id": "674dba27",
   "metadata": {},
   "source": [
    "## About the data\n",
    "\n",
    "For this exercise, we will analyze a dataset of Computed Tomography (CT) scans, modified for the purpose of this assignment. A CT scan combines a series of X-ray measurements taken from different angles around your body and uses computer processing to create cross-sectional images (slices) of the bones, blood vessels and soft tissues inside your body ([wikipedia](https://en.wikipedia.org/wiki/CT_scan)). Due to various reasons, the physician does not always know which part of the body a slice corresponds to (see [this paper](https://www.researchgate.net/profile/Ales-Popovic/publication/283342504_Prediction_of_relative_position_of_CT_slices_using_a_computational_intelligence_system/links/5c3a600b299bf12be3c3c937/Prediction-of-relative-position-of-CT-slices-using-a-computational-intelligence-system.pdf) for more details). Our goal is to develop a machine learning algorithm that can assist the physician in localizing the location of slices within the body of the patient.\n",
    "\n",
    "A  specific description for this dataset is available on the [UCI website](https://archive.ics.uci.edu/ml/datasets/Relative+location+of+CT+slices+on+axial+axis#):\n",
    "\n",
    "> The data was retrieved from a set of 53,500 CT images from 74 different\n",
    "patients (43 male, 31 female).<br/>\n",
    "Each CT slice is described by two histograms in polar space.\n",
    "The first histogram describes the location of bone structures in the image,\n",
    "the second the location of air inclusions inside of the body.\n",
    "Both histograms are concatenated to form the final feature vector.\n",
    "Bins that are outside of the image are marked with the value -0.25.<br/>\n",
    "The class variable (relative location of an image on the axial axis) was\n",
    "constructed by manually annotating up to 10 different distinct landmarks in\n",
    "each CT Volume with known location. The location of slices in between\n",
    "landmarks was interpolated.\n",
    "\n",
    "| Column range | Description                                      |\n",
    "|--------------|--------------------------------------------------|\n",
    "|      0       | patient id                                       |\n",
    "|      1       | Relative location of the image on the axial axis |\n",
    "|    2-241     | Histogram describing bone structures             |\n",
    "|  242-385     | Histogram describing air inclusions              |"
   ]
  },
  {
   "cell_type": "markdown",
   "id": "f986df5e",
   "metadata": {},
   "source": [
    "## Getting started\n",
    "\n",
    "We can load the data as usual with the pandas library."
   ]
  },
  {
   "cell_type": "code",
   "execution_count": 1,
   "id": "22f12009",
   "metadata": {},
   "outputs": [
    {
     "data": {
      "text/html": [
       "<div>\n",
       "<style scoped>\n",
       "    .dataframe tbody tr th:only-of-type {\n",
       "        vertical-align: middle;\n",
       "    }\n",
       "\n",
       "    .dataframe tbody tr th {\n",
       "        vertical-align: top;\n",
       "    }\n",
       "\n",
       "    .dataframe thead th {\n",
       "        text-align: right;\n",
       "    }\n",
       "</style>\n",
       "<table border=\"1\" class=\"dataframe\">\n",
       "  <thead>\n",
       "    <tr style=\"text-align: right;\">\n",
       "      <th></th>\n",
       "      <th>location</th>\n",
       "      <th>bone_struct_1</th>\n",
       "      <th>bone_struct_2</th>\n",
       "      <th>bone_struct_3</th>\n",
       "      <th>bone_struct_4</th>\n",
       "      <th>bone_struct_5</th>\n",
       "      <th>bone_struct_6</th>\n",
       "      <th>bone_struct_7</th>\n",
       "      <th>bone_struct_8</th>\n",
       "      <th>bone_struct_9</th>\n",
       "      <th>...</th>\n",
       "      <th>air_inclusion_135</th>\n",
       "      <th>air_inclusion_136</th>\n",
       "      <th>air_inclusion_137</th>\n",
       "      <th>air_inclusion_138</th>\n",
       "      <th>air_inclusion_139</th>\n",
       "      <th>air_inclusion_140</th>\n",
       "      <th>air_inclusion_141</th>\n",
       "      <th>air_inclusion_142</th>\n",
       "      <th>air_inclusion_143</th>\n",
       "      <th>air_inclusion_144</th>\n",
       "    </tr>\n",
       "    <tr>\n",
       "      <th>patient_id</th>\n",
       "      <th></th>\n",
       "      <th></th>\n",
       "      <th></th>\n",
       "      <th></th>\n",
       "      <th></th>\n",
       "      <th></th>\n",
       "      <th></th>\n",
       "      <th></th>\n",
       "      <th></th>\n",
       "      <th></th>\n",
       "      <th></th>\n",
       "      <th></th>\n",
       "      <th></th>\n",
       "      <th></th>\n",
       "      <th></th>\n",
       "      <th></th>\n",
       "      <th></th>\n",
       "      <th></th>\n",
       "      <th></th>\n",
       "      <th></th>\n",
       "      <th></th>\n",
       "    </tr>\n",
       "  </thead>\n",
       "  <tbody>\n",
       "    <tr>\n",
       "      <th>0</th>\n",
       "      <td>35.637780</td>\n",
       "      <td>0.000000</td>\n",
       "      <td>0.000000</td>\n",
       "      <td>0.0</td>\n",
       "      <td>0.0</td>\n",
       "      <td>0.886814</td>\n",
       "      <td>0.350000</td>\n",
       "      <td>0.000000</td>\n",
       "      <td>0.000000</td>\n",
       "      <td>0.000000</td>\n",
       "      <td>...</td>\n",
       "      <td>0.0</td>\n",
       "      <td>0.0</td>\n",
       "      <td>0.0</td>\n",
       "      <td>0.999530</td>\n",
       "      <td>0.999919</td>\n",
       "      <td>1.0</td>\n",
       "      <td>0.991363</td>\n",
       "      <td>0.0</td>\n",
       "      <td>0.0</td>\n",
       "      <td>-0.25</td>\n",
       "    </tr>\n",
       "    <tr>\n",
       "      <th>0</th>\n",
       "      <td>27.500175</td>\n",
       "      <td>0.285199</td>\n",
       "      <td>0.000000</td>\n",
       "      <td>0.0</td>\n",
       "      <td>0.0</td>\n",
       "      <td>0.000000</td>\n",
       "      <td>0.948412</td>\n",
       "      <td>0.990161</td>\n",
       "      <td>0.974925</td>\n",
       "      <td>0.186741</td>\n",
       "      <td>...</td>\n",
       "      <td>0.0</td>\n",
       "      <td>0.0</td>\n",
       "      <td>0.0</td>\n",
       "      <td>0.000000</td>\n",
       "      <td>0.000000</td>\n",
       "      <td>0.0</td>\n",
       "      <td>0.000000</td>\n",
       "      <td>0.0</td>\n",
       "      <td>0.0</td>\n",
       "      <td>0.00</td>\n",
       "    </tr>\n",
       "    <tr>\n",
       "      <th>0</th>\n",
       "      <td>29.825205</td>\n",
       "      <td>0.386293</td>\n",
       "      <td>0.312139</td>\n",
       "      <td>0.0</td>\n",
       "      <td>0.0</td>\n",
       "      <td>0.000000</td>\n",
       "      <td>0.770162</td>\n",
       "      <td>0.937115</td>\n",
       "      <td>0.953119</td>\n",
       "      <td>0.980818</td>\n",
       "      <td>...</td>\n",
       "      <td>0.0</td>\n",
       "      <td>0.0</td>\n",
       "      <td>0.0</td>\n",
       "      <td>0.000000</td>\n",
       "      <td>0.000000</td>\n",
       "      <td>0.0</td>\n",
       "      <td>0.000000</td>\n",
       "      <td>0.0</td>\n",
       "      <td>0.0</td>\n",
       "      <td>0.00</td>\n",
       "    </tr>\n",
       "    <tr>\n",
       "      <th>0</th>\n",
       "      <td>35.870283</td>\n",
       "      <td>0.000000</td>\n",
       "      <td>0.000000</td>\n",
       "      <td>0.0</td>\n",
       "      <td>0.0</td>\n",
       "      <td>0.837209</td>\n",
       "      <td>0.000000</td>\n",
       "      <td>0.000000</td>\n",
       "      <td>0.000000</td>\n",
       "      <td>0.000000</td>\n",
       "      <td>...</td>\n",
       "      <td>0.0</td>\n",
       "      <td>0.0</td>\n",
       "      <td>0.0</td>\n",
       "      <td>0.999316</td>\n",
       "      <td>0.999891</td>\n",
       "      <td>1.0</td>\n",
       "      <td>0.994250</td>\n",
       "      <td>0.0</td>\n",
       "      <td>0.0</td>\n",
       "      <td>-0.25</td>\n",
       "    </tr>\n",
       "    <tr>\n",
       "      <th>0</th>\n",
       "      <td>25.407648</td>\n",
       "      <td>0.000000</td>\n",
       "      <td>0.000000</td>\n",
       "      <td>0.0</td>\n",
       "      <td>0.0</td>\n",
       "      <td>0.000000</td>\n",
       "      <td>0.000000</td>\n",
       "      <td>0.000000</td>\n",
       "      <td>0.000000</td>\n",
       "      <td>0.000000</td>\n",
       "      <td>...</td>\n",
       "      <td>0.0</td>\n",
       "      <td>0.0</td>\n",
       "      <td>0.0</td>\n",
       "      <td>0.000000</td>\n",
       "      <td>0.000000</td>\n",
       "      <td>0.0</td>\n",
       "      <td>0.000000</td>\n",
       "      <td>0.0</td>\n",
       "      <td>0.0</td>\n",
       "      <td>-0.25</td>\n",
       "    </tr>\n",
       "  </tbody>\n",
       "</table>\n",
       "<p>5 rows × 385 columns</p>\n",
       "</div>"
      ],
      "text/plain": [
       "             location  bone_struct_1  bone_struct_2  bone_struct_3  \\\n",
       "patient_id                                                           \n",
       "0           35.637780       0.000000       0.000000            0.0   \n",
       "0           27.500175       0.285199       0.000000            0.0   \n",
       "0           29.825205       0.386293       0.312139            0.0   \n",
       "0           35.870283       0.000000       0.000000            0.0   \n",
       "0           25.407648       0.000000       0.000000            0.0   \n",
       "\n",
       "            bone_struct_4  bone_struct_5  bone_struct_6  bone_struct_7  \\\n",
       "patient_id                                                               \n",
       "0                     0.0       0.886814       0.350000       0.000000   \n",
       "0                     0.0       0.000000       0.948412       0.990161   \n",
       "0                     0.0       0.000000       0.770162       0.937115   \n",
       "0                     0.0       0.837209       0.000000       0.000000   \n",
       "0                     0.0       0.000000       0.000000       0.000000   \n",
       "\n",
       "            bone_struct_8  bone_struct_9  ...  air_inclusion_135  \\\n",
       "patient_id                                ...                      \n",
       "0                0.000000       0.000000  ...                0.0   \n",
       "0                0.974925       0.186741  ...                0.0   \n",
       "0                0.953119       0.980818  ...                0.0   \n",
       "0                0.000000       0.000000  ...                0.0   \n",
       "0                0.000000       0.000000  ...                0.0   \n",
       "\n",
       "            air_inclusion_136  air_inclusion_137  air_inclusion_138  \\\n",
       "patient_id                                                            \n",
       "0                         0.0                0.0           0.999530   \n",
       "0                         0.0                0.0           0.000000   \n",
       "0                         0.0                0.0           0.000000   \n",
       "0                         0.0                0.0           0.999316   \n",
       "0                         0.0                0.0           0.000000   \n",
       "\n",
       "            air_inclusion_139  air_inclusion_140  air_inclusion_141  \\\n",
       "patient_id                                                            \n",
       "0                    0.999919                1.0           0.991363   \n",
       "0                    0.000000                0.0           0.000000   \n",
       "0                    0.000000                0.0           0.000000   \n",
       "0                    0.999891                1.0           0.994250   \n",
       "0                    0.000000                0.0           0.000000   \n",
       "\n",
       "            air_inclusion_142  air_inclusion_143  air_inclusion_144  \n",
       "patient_id                                                           \n",
       "0                         0.0                0.0              -0.25  \n",
       "0                         0.0                0.0               0.00  \n",
       "0                         0.0                0.0               0.00  \n",
       "0                         0.0                0.0              -0.25  \n",
       "0                         0.0                0.0              -0.25  \n",
       "\n",
       "[5 rows x 385 columns]"
      ]
     },
     "execution_count": 1,
     "metadata": {},
     "output_type": "execute_result"
    }
   ],
   "source": [
    "import pandas as pd\n",
    "\n",
    "ct_data = pd.read_csv(\"data/slice_localization.csv\", index_col=0)\n",
    "ct_data.head()"
   ]
  },
  {
   "cell_type": "markdown",
   "id": "ec182120",
   "metadata": {},
   "source": [
    "We also extract our feature and target arrays, where:\n",
    "\n",
    "- The features (X) are the histogram values for both the bone structure and air inclusion.\n",
    "- The target (y) is the relative location of the slice on the axial axis in the range \\[0,180\\] where 0 denotes the top of the head and 180 the soles of the feet."
   ]
  },
  {
   "cell_type": "code",
   "execution_count": 2,
   "id": "c29747c8",
   "metadata": {},
   "outputs": [
    {
     "name": "stdout",
     "output_type": "stream",
     "text": [
      "(485, 384) (485,)\n"
     ]
    }
   ],
   "source": [
    "X = ct_data.drop(columns=\"location\")\n",
    "y = ct_data[\"location\"]\n",
    "\n",
    "print(X.shape, y.shape)"
   ]
  },
  {
   "cell_type": "markdown",
   "id": "bc17e280",
   "metadata": {},
   "source": [
    "We will now split the data into train and test set. We select 80% of patients to be in the training set, and 20% in the test set."
   ]
  },
  {
   "cell_type": "code",
   "execution_count": 3,
   "id": "2af1815d",
   "metadata": {},
   "outputs": [],
   "source": [
    "import numpy as np\n",
    "\n",
    "np.random.seed(42)\n",
    "\n",
    "patients = X.index.unique()\n",
    "train_patients = np.random.choice(patients, int(0.8*len(patients)), replace=False)\n",
    "test_patients = np.setdiff1d(patients, train_patients)\n",
    "\n",
    "X_train = X.loc[train_patients]\n",
    "y_train = y.loc[train_patients]\n",
    "X_test = X.loc[test_patients]\n",
    "y_test = y.loc[test_patients]"
   ]
  },
  {
   "cell_type": "markdown",
   "id": "8f83cd09",
   "metadata": {},
   "source": [
    "## Questions"
   ]
  },
  {
   "cell_type": "markdown",
   "id": "00a8362c",
   "metadata": {},
   "source": [
    "1. Do we need to scale the features or not? Why? (*Hint: Note what the feature values represent.*) (5 points)"
   ]
  },
  {
   "cell_type": "markdown",
   "id": "355e9c37",
   "metadata": {},
   "source": [
    "> **YOUR ANSWER**: No, the features don't need to be scaled because the numerical values of bone structure and air inclusion are on fairly similar scales."
   ]
  },
  {
   "cell_type": "markdown",
   "id": "8db9335d",
   "metadata": {},
   "source": [
    "2. Build a plain linear regression model without regularization to predict the slice location. (Use default values for the arguments of the model.) What is the coefficient of determination, $R^2$, for the train and test data? (6 points)"
   ]
  },
  {
   "cell_type": "code",
   "execution_count": 4,
   "id": "b2f2a21a",
   "metadata": {},
   "outputs": [
    {
     "name": "stdout",
     "output_type": "stream",
     "text": [
      "Train score: 0.990\n",
      "Test score: -4.322\n"
     ]
    }
   ],
   "source": [
    "# YOUR CODE\n",
    "from sklearn.linear_model import LinearRegression\n",
    "\n",
    "lin_reg = LinearRegression()\n",
    "lin_reg.fit(X_train, y_train)\n",
    "\n",
    "print(f'Train score: {lin_reg.score(X_train, y_train):.3f}')\n",
    "print(f'Test score: {lin_reg.score(X_test, y_test):.3f}')\n"
   ]
  },
  {
   "cell_type": "markdown",
   "id": "3b68c95e",
   "metadata": {},
   "source": [
    "3. To improve the fit, we want to add regularization. (7 points)\n",
    "    1. What does regularization consist in in the case of linear regression models?\n",
    "    2. Describe the difference between L1 and L2 regularization."
   ]
  },
  {
   "cell_type": "markdown",
   "id": "3c7dcfd9",
   "metadata": {},
   "source": [
    "> **YOUR ANSWER**:\n",
    ">\n",
    "> A. In the case of linear regressionmodels, regularization reduces the risk of overfitting the training set by using penalty terms to discourage large coefficients and constraining the weights of the model.\n",
    ">\n",
    "> B. L1 regularization has a penalty sum of the norm of w. (Norm already includes the sum.) While L2 regularization has a penalty sum of the dot product of w. (Dot product already includes the sum.)"
   ]
  },
  {
   "cell_type": "markdown",
   "id": "05716ea7",
   "metadata": {},
   "source": [
    "4. Build a regularized linear regression model with L1 regularization (choose $\\alpha$ = 0.1) to predict the slice location. What is the coefficient of determination, $R^2$, for the test data? (5 points)"
   ]
  },
  {
   "cell_type": "code",
   "execution_count": 5,
   "id": "fe507b2c",
   "metadata": {},
   "outputs": [
    {
     "name": "stdout",
     "output_type": "stream",
     "text": [
      "Test score: 0.782\n"
     ]
    }
   ],
   "source": [
    "# YOUR CODE\n",
    "from sklearn.linear_model import Lasso\n",
    "from sklearn.preprocessing import StandardScaler\n",
    "\n",
    "lasso = Lasso(alpha=0.1).fit(X_train, y_train)\n",
    "\n",
    "print(f'Test score: {lasso.score(X_test, y_test):.3f}')"
   ]
  },
  {
   "cell_type": "markdown",
   "id": "6ac75876",
   "metadata": {},
   "source": [
    "5. Hyperparameter tuning:\n",
    "    1. Use a 5-fold cross-validation approach to test a range of values for the regularization parameter $\\alpha$. Use the range [0.01, 0.3] with a step size of 0.01. (12 points)\n",
    "    2. Plot the mean validation coefficient of determination, $R^2$, (for all folds) as a function of $\\alpha$. Label each axis properly. (5 points)\n",
    "    3. What is the best value of $\\alpha$? Fit the model with the best $\\alpha$ value to the entire training set and print the coefficient of determination, $R^2$, on the test set. (5 points)\n",
    "\n",
    "    Note: You might encounter some convergence warnings for some values of $\\alpha$. Feel free to ignore them. (Or you can increase `max_iter` value.)"
   ]
  },
  {
   "cell_type": "code",
   "execution_count": 6,
   "id": "406b27c0",
   "metadata": {},
   "outputs": [
    {
     "name": "stdout",
     "output_type": "stream",
     "text": [
      "Test score with Best Value of alpha: 0.812\n",
      "Best Value of alpha: 0.06\n"
     ]
    },
    {
     "data": {
      "image/png": "[encoded data removed]",
      "text/plain": [
       "<Figure size 640x480 with 1 Axes>"
      ]
     },
     "metadata": {},
     "output_type": "display_data"
    }
   ],
   "source": [
    "# YOUR CODE\n",
    "\n",
    "# 5.A\n",
    "import numpy as np\n",
    "from sklearn.model_selection import cross_val_score\n",
    "\n",
    "alpha_range = np.arange(0.01, 0.31, 0.01)\n",
    "cv_scores = []\n",
    "\n",
    "for alpha in alpha_range:\n",
    "    model = Lasso(alpha=alpha, max_iter=1000000)\n",
    "    score = cross_val_score(model, X_train, y_train, cv=5, scoring='r2')\n",
    "    cv_scores.append(np.mean(score))\n",
    "# 5.B\n",
    "import matplotlib.pyplot as plt\n",
    "\n",
    "plt.plot(alpha_range, cv_scores, color = \"purple\", label = \"Mean Test Accuracy\")\n",
    "plt.title(\"Mean Coefficient of Determination Values vs Alpha Values\")\n",
    "plt.xlabel(\"Alpha Values\")\n",
    "plt.ylabel(\"Mean Coeffficient of Determination Values\")\n",
    "plt.legend()\n",
    "# 5.C\n",
    "best_alpha = alpha_range[np.argmax(cv_scores)]\n",
    "new_lasso = Lasso(alpha=best_alpha).fit(X_train, y_train)\n",
    "print(f'Test score with Best Value of alpha: {new_lasso.score(X_test, y_test):.3f}')\n",
    "print(f'Best Value of alpha: {best_alpha:.2f}')\n",
    "\n"
   ]
  },
  {
   "cell_type": "markdown",
   "id": "2b4c134e",
   "metadata": {},
   "source": [
    "6. Why is the score decreasing after $\\alpha$ reaches a certain value in the plot from Question 5.B? (5 points)"
   ]
  },
  {
   "cell_type": "markdown",
   "id": "a08a71b7",
   "metadata": {},
   "source": [
    "> **YOUR ANSWER**: $\\alpha$ controls the regularization strength: the higher its value the simpler the model becomes. Thus, at some point, the model starts to underfit the training data and not enough features are taken into account. In other words, the optimization algorithm becomes too much focused on the coefficients penalty rather than trying to minimize the difference between the prediction and the target values.\n",
    "> "
   ]
  },
  {
   "cell_type": "markdown",
   "id": "eeef15ac",
   "metadata": {},
   "source": [
    "7. To visually compare the models trained with and without regularization, make two scatterplots side-by-side (subplots) in a single plot showing the predicted values against the true target values for test set for the linear regression model without regularization from Question 2 and the best regularized model found in Question 5. Add a red dotted line (x, x) to show the deviation from the true value. **Use the same axes ranges for both subplots**. (15 points)\n",
    "\n",
    "   - x-axis should be the true target value and the y-axis should be the predicted value. Label the axes accordingly.\n",
    "   - Provide an appropriate title for each subplot."
   ]
  },
  {
   "cell_type": "code",
   "execution_count": 7,
   "id": "40921d65",
   "metadata": {},
   "outputs": [
    {
     "data": {
      "text/plain": [
       "Text(0, 0.5, 'Predicted Values')"
      ]
     },
     "execution_count": 7,
     "metadata": {},
     "output_type": "execute_result"
    },
    {
     "data": {
      "image/png": "[encoded data removed]",
      "text/plain": [
       "<Figure size 1500x800 with 2 Axes>"
      ]
     },
     "metadata": {},
     "output_type": "display_data"
    }
   ],
   "source": [
    "# YOUR CODE\n",
    "y_pred_lin_reg = lin_reg.predict(X_test)\n",
    "y_pred_lasso = new_lasso.predict(X_test)\n",
    "\n",
    "fig, axs = plt.subplots(1, 2, figsize=(15,8))\n",
    "\n",
    "axs[0].scatter(y_test, y_pred_lin_reg, color=\"blue\")\n",
    "axs[0].plot(y_test, y_test, color=\"red\", linestyle=':')\n",
    "axs[0].set_xlim(np.min(y_test), np.max(y_test))\n",
    "axs[0].set_ylim(np.min(y_test), np.max(y_test))\n",
    "axs[0].set_title('Target Values vs Predicted Values of Linear \\nRegression Model Without Regularization')\n",
    "axs[0].set_xlabel('True Target Values')\n",
    "axs[0].set_ylabel('Predicted Values')\n",
    "\n",
    "axs[1].scatter(y_test, y_pred_lasso, color=\"blue\")\n",
    "axs[1].plot(y_test, y_test, color=\"red\", linestyle=':')\n",
    "axs[1].set_xlim(np.min(y_test), np.max(y_test))\n",
    "axs[1].set_ylim(np.min(y_test), np.max(y_test))\n",
    "axs[1].set_title('Target Values vs Predicted Values of Linear \\nRegression Model With Best Regularization')\n",
    "axs[1].set_xlabel('True Target Values')\n",
    "axs[1].set_ylabel('Predicted Values')"
   ]
  },
  {
   "cell_type": "markdown",
   "id": "21a0bd2f",
   "metadata": {},
   "source": [
    "# Exercise 2: Predicting Beach Volleyball Games Outcome\n",
    "\n",
    "## About the data\n",
    "\n",
    "This exercise is based on beach volleyball games from international games (FIVB) or in the US (AVP). This is a public dataset from [kaggle](https://www.kaggle.com/jessemostipak/beach-volleyball) that was cleaned for our purpose. As usual, you have a data table with samples as rows and features as columns.\n",
    "\n",
    "The data is organized the following way:\n",
    "- There are two rows for each game: one row for the winning team and one row for the losing team.\n",
    "- Each team is composed of two players. Characteristics and stats of players are averaged to provide a global value for the team.\n",
    " \n",
    "The features are:\n",
    "\n",
    "| feature name    | values      | description                                |\n",
    "|-----------------|-------------|--------------------------------------------|\n",
    "| outcome         | W or L      | Win or Loss                                |\n",
    "| duration        | int         | Duration of the game in minutes            |\n",
    "| year            | int         | Tournament year                            |\n",
    "| nb_sets         | 2 or 3      | Number of sets                             |\n",
    "| avg_score_diff  | float       | Average score difference in all sets       |\n",
    "| team_age        | float       | Average age of the two players             |\n",
    "| team_gender     | W or M      | Team gender                                |\n",
    "| team_height     | float       | Average height of the two players          |\n",
    "| team_tot_{stat} | float       | Average {stat} for both players            |"
   ]
  },
  {
   "cell_type": "markdown",
   "id": "88cdb94e",
   "metadata": {},
   "source": [
    "## Loading the data\n",
    "\n",
    "We first need to load the dataset."
   ]
  },
  {
   "cell_type": "code",
   "execution_count": 8,
   "id": "e4c0703c",
   "metadata": {},
   "outputs": [
    {
     "data": {
      "text/html": [
       "<div>\n",
       "<style scoped>\n",
       "    .dataframe tbody tr th:only-of-type {\n",
       "        vertical-align: middle;\n",
       "    }\n",
       "\n",
       "    .dataframe tbody tr th {\n",
       "        vertical-align: top;\n",
       "    }\n",
       "\n",
       "    .dataframe thead th {\n",
       "        text-align: right;\n",
       "    }\n",
       "</style>\n",
       "<table border=\"1\" class=\"dataframe\">\n",
       "  <thead>\n",
       "    <tr style=\"text-align: right;\">\n",
       "      <th></th>\n",
       "      <th>year</th>\n",
       "      <th>team_gender</th>\n",
       "      <th>duration</th>\n",
       "      <th>nb_sets</th>\n",
       "      <th>avg_score_diff</th>\n",
       "      <th>outcome</th>\n",
       "      <th>team_age</th>\n",
       "      <th>team_height</th>\n",
       "      <th>team_tot_aces</th>\n",
       "      <th>team_tot_attacks</th>\n",
       "      <th>team_tot_blocks</th>\n",
       "      <th>team_tot_digs</th>\n",
       "      <th>team_tot_errors</th>\n",
       "      <th>team_tot_hitpct</th>\n",
       "      <th>team_tot_kills</th>\n",
       "      <th>team_tot_serve_errors</th>\n",
       "    </tr>\n",
       "  </thead>\n",
       "  <tbody>\n",
       "    <tr>\n",
       "      <th>0</th>\n",
       "      <td>2004</td>\n",
       "      <td>M</td>\n",
       "      <td>24</td>\n",
       "      <td>2.0</td>\n",
       "      <td>10.5</td>\n",
       "      <td>L</td>\n",
       "      <td>31.55</td>\n",
       "      <td>75.0</td>\n",
       "      <td>0.5</td>\n",
       "      <td>17.5</td>\n",
       "      <td>1.0</td>\n",
       "      <td>2.5</td>\n",
       "      <td>2.5</td>\n",
       "      <td>0.12</td>\n",
       "      <td>7.0</td>\n",
       "      <td>2.0</td>\n",
       "    </tr>\n",
       "    <tr>\n",
       "      <th>1</th>\n",
       "      <td>2004</td>\n",
       "      <td>M</td>\n",
       "      <td>24</td>\n",
       "      <td>2.0</td>\n",
       "      <td>10.5</td>\n",
       "      <td>W</td>\n",
       "      <td>30.71</td>\n",
       "      <td>75.5</td>\n",
       "      <td>0.0</td>\n",
       "      <td>12.5</td>\n",
       "      <td>4.5</td>\n",
       "      <td>4.0</td>\n",
       "      <td>1.0</td>\n",
       "      <td>0.62</td>\n",
       "      <td>8.5</td>\n",
       "      <td>1.0</td>\n",
       "    </tr>\n",
       "    <tr>\n",
       "      <th>2</th>\n",
       "      <td>2004</td>\n",
       "      <td>M</td>\n",
       "      <td>27</td>\n",
       "      <td>2.0</td>\n",
       "      <td>7.0</td>\n",
       "      <td>L</td>\n",
       "      <td>24.51</td>\n",
       "      <td>77.0</td>\n",
       "      <td>0.0</td>\n",
       "      <td>19.5</td>\n",
       "      <td>1.0</td>\n",
       "      <td>4.0</td>\n",
       "      <td>6.0</td>\n",
       "      <td>0.25</td>\n",
       "      <td>10.0</td>\n",
       "      <td>3.5</td>\n",
       "    </tr>\n",
       "    <tr>\n",
       "      <th>3</th>\n",
       "      <td>2004</td>\n",
       "      <td>M</td>\n",
       "      <td>27</td>\n",
       "      <td>2.0</td>\n",
       "      <td>7.0</td>\n",
       "      <td>W</td>\n",
       "      <td>33.83</td>\n",
       "      <td>77.0</td>\n",
       "      <td>2.0</td>\n",
       "      <td>14.5</td>\n",
       "      <td>2.0</td>\n",
       "      <td>2.5</td>\n",
       "      <td>1.5</td>\n",
       "      <td>0.61</td>\n",
       "      <td>9.5</td>\n",
       "      <td>2.5</td>\n",
       "    </tr>\n",
       "    <tr>\n",
       "      <th>4</th>\n",
       "      <td>2004</td>\n",
       "      <td>M</td>\n",
       "      <td>29</td>\n",
       "      <td>2.0</td>\n",
       "      <td>8.0</td>\n",
       "      <td>L</td>\n",
       "      <td>27.69</td>\n",
       "      <td>74.5</td>\n",
       "      <td>0.5</td>\n",
       "      <td>20.5</td>\n",
       "      <td>1.0</td>\n",
       "      <td>1.5</td>\n",
       "      <td>6.5</td>\n",
       "      <td>0.28</td>\n",
       "      <td>11.5</td>\n",
       "      <td>3.0</td>\n",
       "    </tr>\n",
       "  </tbody>\n",
       "</table>\n",
       "</div>"
      ],
      "text/plain": [
       "   year team_gender  duration  nb_sets  avg_score_diff outcome  team_age  \\\n",
       "0  2004           M        24      2.0            10.5       L     31.55   \n",
       "1  2004           M        24      2.0            10.5       W     30.71   \n",
       "2  2004           M        27      2.0             7.0       L     24.51   \n",
       "3  2004           M        27      2.0             7.0       W     33.83   \n",
       "4  2004           M        29      2.0             8.0       L     27.69   \n",
       "\n",
       "   team_height  team_tot_aces  team_tot_attacks  team_tot_blocks  \\\n",
       "0         75.0            0.5              17.5              1.0   \n",
       "1         75.5            0.0              12.5              4.5   \n",
       "2         77.0            0.0              19.5              1.0   \n",
       "3         77.0            2.0              14.5              2.0   \n",
       "4         74.5            0.5              20.5              1.0   \n",
       "\n",
       "   team_tot_digs  team_tot_errors  team_tot_hitpct  team_tot_kills  \\\n",
       "0            2.5              2.5             0.12             7.0   \n",
       "1            4.0              1.0             0.62             8.5   \n",
       "2            4.0              6.0             0.25            10.0   \n",
       "3            2.5              1.5             0.61             9.5   \n",
       "4            1.5              6.5             0.28            11.5   \n",
       "\n",
       "   team_tot_serve_errors  \n",
       "0                    2.0  \n",
       "1                    1.0  \n",
       "2                    3.5  \n",
       "3                    2.5  \n",
       "4                    3.0  "
      ]
     },
     "execution_count": 8,
     "metadata": {},
     "output_type": "execute_result"
    }
   ],
   "source": [
    "import pandas as pd\n",
    "\n",
    "vb_matches = pd.read_csv(\"data/vb.csv\")\n",
    "vb_matches.head()"
   ]
  },
  {
   "cell_type": "markdown",
   "id": "a91e901e",
   "metadata": {},
   "source": [
    "We can now organize our data into features and target:\n",
    "\n",
    "    - Our target variable (y) will be the \"outcome\" column.\n",
    "    - Our features (X) are all of the other columns."
   ]
  },
  {
   "cell_type": "code",
   "execution_count": 9,
   "id": "34fddf89",
   "metadata": {},
   "outputs": [],
   "source": [
    "X = vb_matches.drop(columns=\"outcome\")\n",
    "y = vb_matches[\"outcome\"]"
   ]
  },
  {
   "cell_type": "markdown",
   "id": "95309432",
   "metadata": {},
   "source": [
    "## Part 1: Preparing the data for analysis (10 points)\n",
    "\n",
    "We first need to make sure the data is properly formatted and normalized to build our predictive model. These preparation steps include (among others):\n",
    "   \n",
    "- Setting aside test samples to test our model later\n",
    "- Converting any categorical variables into numerical values\n",
    "- Normalizing the numeric variables to make the ranges of values similar"
   ]
  },
  {
   "cell_type": "markdown",
   "id": "f171a9bf",
   "metadata": {},
   "source": [
    "### Questions"
   ]
  },
  {
   "cell_type": "markdown",
   "id": "ceca237a",
   "metadata": {},
   "source": [
    "1. Before we work on the dataset, we need to split our data into training and testing. Using the scikit-learn library, split the data into 70% training and 30% testing. In order to make the results consistent for everyone, use a random state of 42. (1 point)"
   ]
  },
  {
   "cell_type": "code",
   "execution_count": 10,
   "id": "20aea062",
   "metadata": {},
   "outputs": [],
   "source": [
    "# YOUR CODE\n",
    "from sklearn.model_selection import train_test_split\n",
    "\n",
    "X_train, X_test, y_train, y_test = train_test_split(X, y, random_state=42, train_size=0.7)"
   ]
  },
  {
   "cell_type": "markdown",
   "id": "a8fb2018",
   "metadata": {},
   "source": [
    "2. Which feature(s) are numerical and which are categorical? (You can answer this question by inspecting the data. No need to write a code.) (2 points)"
   ]
  },
  {
   "cell_type": "markdown",
   "id": "36552013",
   "metadata": {},
   "source": [
    ">**YOUR ANSWER**:\n",
    ">\n",
    "> - Numerical features: year, duration, nb_sets, avg_score_diff, team_age, team_height, team_tot_aces, team_tot_attacks, team_tot_blocks, team_tot_digs, team_tot_errors, team_tot_hitpct, team_tot_kills, team_tot_serve_errors\n",
    "> - Categorical features: team_gender"
   ]
  },
  {
   "cell_type": "markdown",
   "id": "d6e73f0b",
   "metadata": {},
   "source": [
    "3. **Standardize** the *numerical* features identified in Question 2 for both training and testing sets. Don't forget that the scaler needs to be fit only on the training data. (4 points)"
   ]
  },
  {
   "cell_type": "code",
   "execution_count": 11,
   "id": "ecced1ed",
   "metadata": {},
   "outputs": [
    {
     "name": "stdout",
     "output_type": "stream",
     "text": [
      "           year team_gender  duration   nb_sets  avg_score_diff  team_age  \\\n",
      "2770  -1.082782           W  0.695277  1.211939       -0.430634  0.461592   \n",
      "11591  0.276226           W -1.156755 -0.825124       -0.317504 -0.503680   \n",
      "2329  -1.082782           W -0.925251 -0.825124       -0.317504 -0.199315   \n",
      "9628  -0.176777           W -0.693747 -0.825124        0.025313 -0.396428   \n",
      "11495  0.276226           M  0.155101  1.211939       -1.688771 -1.935646   \n",
      "...         ...         ...       ...       ...             ...       ...   \n",
      "11284  0.049725           W  0.926780  1.211939       -1.459084 -0.564553   \n",
      "11964  0.729229           M -1.233923 -0.825124        2.082213 -1.634180   \n",
      "5390  -0.629779           M  1.081116  1.211939       -0.204375  0.365934   \n",
      "860   -1.309284           W -0.925251 -0.825124        1.739396 -0.422516   \n",
      "15795  1.861736           M -1.311091 -0.825124       -0.146096 -1.095018   \n",
      "\n",
      "       team_height  team_tot_aces  team_tot_attacks  team_tot_blocks  \\\n",
      "2770     -1.074591      -0.380085          1.052362        -0.429170   \n",
      "11591    -0.990891       1.564826         -1.604274        -0.899705   \n",
      "2329     -0.990891       0.175604         -0.202161        -0.429170   \n",
      "9628     -0.723049      -0.102241         -0.718729        -0.899705   \n",
      "11495     1.854924       0.453448          1.421339         0.041364   \n",
      "...            ...            ...               ...              ...   \n",
      "11284    -0.321287       1.564826          0.830975        -0.899705   \n",
      "11964     0.180915      -1.213618         -0.940115         0.511898   \n",
      "5390      1.017919       2.120514          0.166816         0.511898   \n",
      "860      -0.488688      -0.657930         -0.202161        -0.899705   \n",
      "15795     0.180915      -0.102241         -0.829422         0.276631   \n",
      "\n",
      "       team_tot_digs  team_tot_errors  team_tot_hitpct  team_tot_kills  \\\n",
      "2770       -0.092428         0.285011        -0.158732        0.765943   \n",
      "11591      -2.132728        -1.220761         1.317023       -0.856894   \n",
      "2329        0.048283        -1.083873         0.895379        0.360234   \n",
      "9628       -0.866335        -0.125654        -0.299280       -0.748705   \n",
      "11495      -0.303493         1.243229        -0.299280        1.577361   \n",
      "...              ...              ...              ...             ...   \n",
      "11284       0.962900        -0.125654         0.754831        1.577361   \n",
      "11964      -1.992017         1.243229        -2.618324       -2.074022   \n",
      "5390       -0.303493         2.338336        -1.634487       -0.315948   \n",
      "860        -0.303493         0.695676        -1.142569       -1.533076   \n",
      "15795      -1.077400        -0.946985         1.598120       -0.248330   \n",
      "\n",
      "       team_tot_serve_errors  \n",
      "2770               -0.504343  \n",
      "11591               0.810673  \n",
      "2329                0.039197  \n",
      "9628               -0.241340  \n",
      "11495               3.002367  \n",
      "...                      ...  \n",
      "11284               0.810673  \n",
      "11964               1.249012  \n",
      "5390                3.440706  \n",
      "860                -0.942682  \n",
      "15795               0.810673  \n",
      "\n",
      "[11907 rows x 15 columns]\n"
     ]
    }
   ],
   "source": [
    "# pd.options.mode.chained_assignment = None    # ignore some potential warnings for this question\n",
    "\n",
    "# YOUR CODE\n",
    "from sklearn.preprocessing import StandardScaler\n",
    "\n",
    "numerical_features = ['year', 'duration', 'nb_sets', 'avg_score_diff', 'team_age', 'team_height', 'team_tot_aces', 'team_tot_attacks', 'team_tot_blocks', 'team_tot_digs', 'team_tot_errors', 'team_tot_hitpct', 'team_tot_kills', 'team_tot_serve_errors']\n",
    "\n",
    "X_train_scaled = X_train.copy()\n",
    "X_test_scaled = X_test.copy()\n",
    "\n",
    "scaler = StandardScaler().fit(X_train[numerical_features])\n",
    "X_train_scaled[numerical_features] = scaler.transform(X_train[numerical_features])\n",
    "X_test_scaled[numerical_features] = scaler.transform(X_test[numerical_features])\n",
    "\n",
    "print(X_train_scaled)"
   ]
  },
  {
   "cell_type": "markdown",
   "id": "a7ac3697",
   "metadata": {},
   "source": [
    "4. Convert the *categorical* feature(s) identified in Question 2 to numerical values so that \"W\" corresponds to 1 and \"M\" to 0. (You don't need to use an encoder for this conversion.) (3 points)"
   ]
  },
  {
   "cell_type": "code",
   "execution_count": 12,
   "id": "201b5591",
   "metadata": {},
   "outputs": [],
   "source": [
    "# YOUR CODE\n",
    "X_train_scaled['team_gender'] = X_train_scaled['team_gender'].map({'W': 1, 'M': 0})\n",
    "X_test_scaled['team_gender'] = X_test_scaled['team_gender'].map({'W': 1, 'M': 0})\n",
    "X_train_scaled['outcome'] = y_train.map({'W': 1, 'L': 0})\n",
    "X_test_scaled['outcome'] = y_test.map({'W': 1, 'L': 0})"
   ]
  },
  {
   "cell_type": "markdown",
   "id": "19b2766f",
   "metadata": {},
   "source": [
    "## Part 2: Predicting the winner (25 points)\n",
    "\n",
    "Now that our data is ready, we can build our predictive model. We want to predict if a team won (column `outcome`) based on the features."
   ]
  },
  {
   "cell_type": "markdown",
   "id": "b9c5761d",
   "metadata": {},
   "source": [
    "1. Between a linear regression and a logistic regression model, which one is more appropriate for this problem? Why? (2 points)"
   ]
  },
  {
   "cell_type": "markdown",
   "id": "44322cbc",
   "metadata": {},
   "source": [
    "> **YOUR ANSWER**: Logistic regression is more appropriate for this problem because the possible values are either 0 or 1, or L or W, and the predicted value of logistic regression is in between 0 or 1."
   ]
  },
  {
   "cell_type": "markdown",
   "id": "ea2b0c5d",
   "metadata": {},
   "source": [
    "2. Fit a logistic regression model **without regularization** to predict the outcome of the game and compute the accuracy on the test set. (8 points)"
   ]
  },
  {
   "cell_type": "code",
   "execution_count": 13,
   "id": "05ba9191",
   "metadata": {},
   "outputs": [
    {
     "name": "stdout",
     "output_type": "stream",
     "text": [
      "Test accuracy: 1.000\n",
      "           year  team_gender  duration   nb_sets  avg_score_diff  team_age  \\\n",
      "4894  -0.629779            0 -0.693747 -0.825124        0.196721 -0.642819   \n",
      "3903  -0.856281            1 -1.388259 -0.825124        0.196721 -0.054379   \n",
      "744   -1.309284            1 -1.233923 -0.825124        0.539538 -1.422573   \n",
      "12608  0.729229            1 -0.385075  1.211939        0.138442 -3.503852   \n",
      "5556  -0.629779            0  1.775628  1.211939       -0.430634 -0.399327   \n",
      "...         ...          ...       ...       ...             ...       ...   \n",
      "13413  0.955731            1  0.077933  1.211939        0.138442 -0.100759   \n",
      "12480  0.729229            1 -0.925251 -0.825124       -0.488912 -1.164588   \n",
      "16756  2.088238            0  1.852796  1.211939       -1.232825  2.180531   \n",
      "16431  1.861736            1  0.000765 -0.825124       -0.488912 -0.639920   \n",
      "7600  -0.403278            1 -1.156755 -0.825124        1.567988  0.020987   \n",
      "\n",
      "       team_height  team_tot_aces  team_tot_attacks  team_tot_blocks  \\\n",
      "4894      1.058096      -0.102241         -0.460445        -0.429170   \n",
      "3903     -0.990891      -0.102241         -0.866320         0.511898   \n",
      "744      -1.409393      -0.657930         -1.382888        -0.429170   \n",
      "12608    -1.493093       1.009137          1.052362        -0.899705   \n",
      "5556      1.185320       0.453448          1.716521         0.511898   \n",
      "...            ...            ...               ...              ...   \n",
      "13413    -0.823490       1.009137          1.052362         2.394035   \n",
      "12480    -0.990891      -0.657930         -0.534240        -0.664438   \n",
      "16756     1.352721       0.453448          0.904771         2.394035   \n",
      "16431    -0.823490      -0.102241          0.019225        -0.899705   \n",
      "7600     -0.823490      -0.380085         -0.239059        -0.429170   \n",
      "\n",
      "       team_tot_digs  team_tot_errors  team_tot_hitpct  team_tot_kills  \\\n",
      "4894       -0.129012         0.969452        -1.002021       -0.992131   \n",
      "3903       -0.022073         0.421899         0.333186       -0.451185   \n",
      "744        -1.499531        -0.673208        -0.439828       -1.397840   \n",
      "12608      -0.444204         0.969452        -1.283117       -0.315948   \n",
      "5556        1.666451         1.517006        -1.423665       -0.451185   \n",
      "...              ...              ...              ...             ...   \n",
      "13413       1.525741         0.148122         0.192638        0.630706   \n",
      "12480      -0.725624        -0.810096         0.262912       -0.248330   \n",
      "16756      -0.866335         1.790783        -0.439828        1.171652   \n",
      "16431      -0.444204        -0.125654         0.544009        0.630706   \n",
      "7600       -0.866335        -0.673208        -0.580376       -1.059749   \n",
      "\n",
      "       team_tot_serve_errors  outcome prediction  \n",
      "4894               -1.047883        0          L  \n",
      "3903                0.372334        1          W  \n",
      "744                -0.942682        0          L  \n",
      "12608               1.687351        0          L  \n",
      "5556               -0.504343        0          L  \n",
      "...                      ...      ...        ...  \n",
      "13413              -0.066004        1          W  \n",
      "12480              -0.504343        0          L  \n",
      "16756               0.372334        0          L  \n",
      "16431               0.372334        1          W  \n",
      "7600               -1.381021        0          L  \n",
      "\n",
      "[5103 rows x 17 columns]\n"
     ]
    }
   ],
   "source": [
    "# YOUR CODE\n",
    "from sklearn.linear_model import LogisticRegression\n",
    "\n",
    "log_reg = LogisticRegression(penalty=None)\n",
    "log_reg.fit(X_train_scaled, y_train)\n",
    "\n",
    "print(f'Test accuracy: {log_reg.score(X_test_scaled, y_test):.3f}')\n",
    "\n",
    "y_pred = log_reg.predict(X_test_scaled)\n",
    "prediction_df = X_test_scaled.copy()\n",
    "prediction_df['prediction'] = y_pred\n",
    "print(prediction_df)"
   ]
  },
  {
   "cell_type": "markdown",
   "id": "96f26d85",
   "metadata": {},
   "source": [
    "3. Retrieve the coefficients of the model. What are the **five most significant features** to predict the outcome? List the feature name and the corresponding coefficient value for each of the five features in descending order according to the *absolute value* of the coefficients. (15 points)\n",
    "   - Hint: You can access the feature names by using the `.columns` attribute of the feature DataFrame. "
   ]
  },
  {
   "cell_type": "code",
   "execution_count": 14,
   "id": "a7490cb3",
   "metadata": {},
   "outputs": [
    {
     "name": "stdout",
     "output_type": "stream",
     "text": [
      "                  Feature  Coefficient\n",
      "0                    year    -0.054730\n",
      "1             team_gender    -1.927738\n",
      "2                duration    -0.255140\n",
      "3                 nb_sets    -0.054961\n",
      "4          avg_score_diff     0.441262\n",
      "5                team_age     0.115493\n",
      "6             team_height    -0.782650\n",
      "7           team_tot_aces     0.429035\n",
      "8        team_tot_attacks    -0.536455\n",
      "9         team_tot_blocks     0.519215\n",
      "10          team_tot_digs     0.422754\n",
      "11        team_tot_errors     0.008426\n",
      "12        team_tot_hitpct    -0.023574\n",
      "13         team_tot_kills     0.623665\n",
      "14  team_tot_serve_errors    -0.219763\n",
      "15                outcome    17.393988\n",
      "Feature: outcome, Coefficient: 17.39\n",
      "Feature: team_gender, Coefficient: -1.93\n",
      "Feature: team_height, Coefficient: -0.78\n",
      "Feature: team_tot_kills, Coefficient: 0.62\n",
      "Feature: team_tot_attacks, Coefficient: -0.54\n"
     ]
    }
   ],
   "source": [
    "# YOUR CODE\n",
    "feature = X_train_scaled.columns\n",
    "coefficient = log_reg.coef_[0]\n",
    "\n",
    "feature_and_coefficient = pd.DataFrame({'Feature': feature, 'Coefficient': coefficient})\n",
    "feature_and_coefficient_abs = feature_and_coefficient['Coefficient'].abs()\n",
    "print(feature_and_coefficient)\n",
    "\n",
    "indices = feature_and_coefficient.loc[feature_and_coefficient_abs.nlargest(5).index]\n",
    "for index, row in indices.iterrows():\n",
    "    print(f'Feature: {row['Feature']}, Coefficient: {row['Coefficient']:.2f}')"
   ]
  }
 ],
 "metadata": {
  "kernelspec": {
   "display_name": "base",
   "language": "python",
   "name": "python3"
  },
  "language_info": {
   "codemirror_mode": {
    "name": "ipython",
    "version": 3
   },
   "file_extension": ".py",
   "mimetype": "text/x-python",
   "name": "python",
   "nbconvert_exporter": "python",
   "pygments_lexer": "ipython3",
   "version": "3.12.4"
  }
 },
 "nbformat": 4,
 "nbformat_minor": 5
}
