{
 "cells": [
  {
   "cell_type": "markdown",
   "id": "b0209942",
   "metadata": {},
   "source": [
    "# ICS 235 Homework Assignment 1\n",
    "# <span style=\"color:red\">Due: 11:55 PM on Wednesday, September 18</span>"
   ]
  },
  {
   "cell_type": "markdown",
   "id": "c0e65c13",
   "metadata": {
    "jp-MarkdownHeadingCollapsed": true
   },
   "source": [
    "## Instructions\n",
    "\n",
    "1. Name your notebook file using your last and first name as presented in Laulima.\n",
    "    - For example, Harry, Potter ==> HarryPotter_1.ipynb (The number at the end is the assignment number.)\n",
    "2. Only use .ipynb file extension. Other extensions (file formats) like .rtf, .zip, .docs, .pdf are not accepted.\n",
    "3. Data files will be available to the instructor, so no need to upload them to Laulima. Make sure you use the same filenames of data files as given in the homework.\n",
    "4. Save data files in **\"data\" folder under your working directory**. Use **relative path** when you read in data in your code.\n",
    "5. Do not create any subfolders in your Drop Box.\n",
    "6. **Do not modify or delete the provided code.**\n",
    "7. Clean your code before submission.\n",
    "    - If needed, provide clear documentation describing the purpose and how to use every class or function in your code.\n",
    "    - Your submission should **show only the required outputs**. \n",
    "8. Run your code before submission to **show all outputs in the submitted file**. \n",
    "9. Write your full name in the cell below.\n",
    "***"
   ]
  },
  {
   "cell_type": "markdown",
   "id": "ff374771",
   "metadata": {},
   "source": [
    "## Your Name:\n",
    "***Anne Dominique Malig***"
   ]
  },
  {
   "cell_type": "markdown",
   "id": "4bb68f17",
   "metadata": {},
   "source": [
    "# Getting started\n",
    "\n",
    "## About the data\n",
    "\n",
    "This assignment is based on the US avocado sales between 2015 and 2020. This is a public dataset from [kaggle](https://www.kaggle.com/timmate/avocado-prices-2020) that was subsetted to yield a table with the following columns:\n",
    "\n",
    "- *date*: the date of the observation\n",
    "- *average_price*: the average price of a single avocado\n",
    "- *total_volume*: total amount of avocados sold\n",
    "- *type*: conventional or organic\n",
    "- *year*: the year\n",
    "- *geography*: the city or region of the observation\n",
    "\n",
    "You first need to download the data (.csv file) from Laulima. <u>Make a \"data\" folder under your current working directory and save the avocado.csv file in it.</u>\n",
    "\n",
    "The most common way to handle this type of files is to use the [Pandas](https://pandas.pydata.org/docs/getting_started/index.html) library and we went through the very basic use of it in the class. If you plan on doing more data science with Python in the future, I highly recommend you learn how to use the library. In the meantime, we will learn a few ways to use Pandas objects in this homework.\n",
    "\n",
    "## Importing packages\n",
    "\n",
    "First, we need to import `pandas`. It should be already available on your machine if you installed the anaconda (or miniconda) distribution. Otherwise, you will need to install it.\n",
    "Run the following cell:"
   ]
  },
  {
   "cell_type": "code",
   "execution_count": 15,
   "id": "1a4c482d",
   "metadata": {},
   "outputs": [],
   "source": [
    "import pandas as pd"
   ]
  },
  {
   "cell_type": "markdown",
   "id": "adcf33e4",
   "metadata": {},
   "source": [
    "## Loading the avocado dataset\n",
    "\n",
    "We can load the avocado dataset in a `pandas.DataFrame` using the `pd.read_csv()` function. "
   ]
  },
  {
   "cell_type": "code",
   "execution_count": 16,
   "id": "31cc3b03",
   "metadata": {},
   "outputs": [],
   "source": [
    "avocados = pd.read_csv(\"data/avocado.csv\")"
   ]
  },
  {
   "cell_type": "markdown",
   "id": "577ae169",
   "metadata": {},
   "source": [
    "Now let's check the data has been successfully parsed. Because the dataset is relatively large (33,045 rows), we use the `.head()` method to see the first 10 entries."
   ]
  },
  {
   "cell_type": "code",
   "execution_count": 17,
   "id": "4bf82b56",
   "metadata": {},
   "outputs": [
    {
     "data": {
      "text/html": [
       "<div>\n",
       "<style scoped>\n",
       "    .dataframe tbody tr th:only-of-type {\n",
       "        vertical-align: middle;\n",
       "    }\n",
       "\n",
       "    .dataframe tbody tr th {\n",
       "        vertical-align: top;\n",
       "    }\n",
       "\n",
       "    .dataframe thead th {\n",
       "        text-align: right;\n",
       "    }\n",
       "</style>\n",
       "<table border=\"1\" class=\"dataframe\">\n",
       "  <thead>\n",
       "    <tr style=\"text-align: right;\">\n",
       "      <th></th>\n",
       "      <th>date</th>\n",
       "      <th>average_price</th>\n",
       "      <th>total_volume</th>\n",
       "      <th>type</th>\n",
       "      <th>year</th>\n",
       "      <th>geography</th>\n",
       "    </tr>\n",
       "  </thead>\n",
       "  <tbody>\n",
       "    <tr>\n",
       "      <th>0</th>\n",
       "      <td>2015-01-04</td>\n",
       "      <td>1.22</td>\n",
       "      <td>40873.28</td>\n",
       "      <td>conventional</td>\n",
       "      <td>2015</td>\n",
       "      <td>Albany</td>\n",
       "    </tr>\n",
       "    <tr>\n",
       "      <th>1</th>\n",
       "      <td>2015-01-04</td>\n",
       "      <td>1.79</td>\n",
       "      <td>1373.95</td>\n",
       "      <td>organic</td>\n",
       "      <td>2015</td>\n",
       "      <td>Albany</td>\n",
       "    </tr>\n",
       "    <tr>\n",
       "      <th>2</th>\n",
       "      <td>2015-01-04</td>\n",
       "      <td>1.00</td>\n",
       "      <td>435021.49</td>\n",
       "      <td>conventional</td>\n",
       "      <td>2015</td>\n",
       "      <td>Atlanta</td>\n",
       "    </tr>\n",
       "    <tr>\n",
       "      <th>3</th>\n",
       "      <td>2015-01-04</td>\n",
       "      <td>1.76</td>\n",
       "      <td>3846.69</td>\n",
       "      <td>organic</td>\n",
       "      <td>2015</td>\n",
       "      <td>Atlanta</td>\n",
       "    </tr>\n",
       "    <tr>\n",
       "      <th>4</th>\n",
       "      <td>2015-01-04</td>\n",
       "      <td>1.08</td>\n",
       "      <td>788025.06</td>\n",
       "      <td>conventional</td>\n",
       "      <td>2015</td>\n",
       "      <td>Baltimore/Washington</td>\n",
       "    </tr>\n",
       "    <tr>\n",
       "      <th>5</th>\n",
       "      <td>2015-01-04</td>\n",
       "      <td>1.29</td>\n",
       "      <td>19137.28</td>\n",
       "      <td>organic</td>\n",
       "      <td>2015</td>\n",
       "      <td>Baltimore/Washington</td>\n",
       "    </tr>\n",
       "    <tr>\n",
       "      <th>6</th>\n",
       "      <td>2015-01-04</td>\n",
       "      <td>1.01</td>\n",
       "      <td>80034.32</td>\n",
       "      <td>conventional</td>\n",
       "      <td>2015</td>\n",
       "      <td>Boise</td>\n",
       "    </tr>\n",
       "    <tr>\n",
       "      <th>7</th>\n",
       "      <td>2015-01-04</td>\n",
       "      <td>1.64</td>\n",
       "      <td>1505.12</td>\n",
       "      <td>organic</td>\n",
       "      <td>2015</td>\n",
       "      <td>Boise</td>\n",
       "    </tr>\n",
       "    <tr>\n",
       "      <th>8</th>\n",
       "      <td>2015-01-04</td>\n",
       "      <td>1.02</td>\n",
       "      <td>491738.00</td>\n",
       "      <td>conventional</td>\n",
       "      <td>2015</td>\n",
       "      <td>Boston</td>\n",
       "    </tr>\n",
       "    <tr>\n",
       "      <th>9</th>\n",
       "      <td>2015-01-04</td>\n",
       "      <td>1.83</td>\n",
       "      <td>2192.13</td>\n",
       "      <td>organic</td>\n",
       "      <td>2015</td>\n",
       "      <td>Boston</td>\n",
       "    </tr>\n",
       "  </tbody>\n",
       "</table>\n",
       "</div>"
      ],
      "text/plain": [
       "         date  average_price  total_volume          type  year  \\\n",
       "0  2015-01-04           1.22      40873.28  conventional  2015   \n",
       "1  2015-01-04           1.79       1373.95       organic  2015   \n",
       "2  2015-01-04           1.00     435021.49  conventional  2015   \n",
       "3  2015-01-04           1.76       3846.69       organic  2015   \n",
       "4  2015-01-04           1.08     788025.06  conventional  2015   \n",
       "5  2015-01-04           1.29      19137.28       organic  2015   \n",
       "6  2015-01-04           1.01      80034.32  conventional  2015   \n",
       "7  2015-01-04           1.64       1505.12       organic  2015   \n",
       "8  2015-01-04           1.02     491738.00  conventional  2015   \n",
       "9  2015-01-04           1.83       2192.13       organic  2015   \n",
       "\n",
       "              geography  \n",
       "0                Albany  \n",
       "1                Albany  \n",
       "2               Atlanta  \n",
       "3               Atlanta  \n",
       "4  Baltimore/Washington  \n",
       "5  Baltimore/Washington  \n",
       "6                 Boise  \n",
       "7                 Boise  \n",
       "8                Boston  \n",
       "9                Boston  "
      ]
     },
     "execution_count": 17,
     "metadata": {},
     "output_type": "execute_result"
    }
   ],
   "source": [
    "# See the first 10 rows\n",
    "avocados.head(10)"
   ]
  },
  {
   "cell_type": "markdown",
   "id": "3c14dd21",
   "metadata": {},
   "source": [
    "## Accessing the columns\n",
    "\n",
    "In the following sections, you will sometimes need to extract columns from a DataFrame. This can be done by using the notation `data[COLUMN_NAME]` where `COLUMN_NAME` is one of \"date\", \"average_price\", \"total_volume\", \"type\", \"year\" or \"geography\". For example, to extract the column \"average_price\", you would do:"
   ]
  },
  {
   "cell_type": "code",
   "execution_count": 18,
   "id": "de4e5ce9",
   "metadata": {},
   "outputs": [
    {
     "name": "stdout",
     "output_type": "stream",
     "text": [
      "0        1.22\n",
      "1        1.79\n",
      "2        1.00\n",
      "3        1.76\n",
      "4        1.08\n",
      "         ... \n",
      "33040    1.47\n",
      "33041    0.91\n",
      "33042    1.48\n",
      "33043    0.67\n",
      "33044    1.35\n",
      "Name: average_price, Length: 33045, dtype: float64\n"
     ]
    }
   ],
   "source": [
    "average_price = avocados[\"average_price\"]\n",
    "print(average_price)"
   ]
  },
  {
   "cell_type": "markdown",
   "id": "0d6bf667",
   "metadata": {},
   "source": [
    "To access multiple columns, you need to provide a list of the column names. For example:"
   ]
  },
  {
   "cell_type": "code",
   "execution_count": 19,
   "id": "f59677af",
   "metadata": {},
   "outputs": [
    {
     "name": "stdout",
     "output_type": "stream",
     "text": [
      "       average_price  total_volume\n",
      "0               1.22      40873.28\n",
      "1               1.79       1373.95\n",
      "2               1.00     435021.49\n",
      "3               1.76       3846.69\n",
      "4               1.08     788025.06\n",
      "...              ...           ...\n",
      "33040           1.47    1583056.27\n",
      "33041           0.91    5811114.22\n",
      "33042           1.48     289961.27\n",
      "33043           0.67     822818.75\n",
      "33044           1.35      24106.58\n",
      "\n",
      "[33045 rows x 2 columns]\n"
     ]
    }
   ],
   "source": [
    "avocados_price_and_volume = avocados[[\"average_price\", \"total_volume\"]]\n",
    "print(avocados_price_and_volume)"
   ]
  },
  {
   "cell_type": "markdown",
   "id": "b3d192e1",
   "metadata": {},
   "source": [
    "## Converting to NumPy array\n",
    "\n",
    "After selecting a column, you will be left with a `pandas.Series` object (or a `pandas.DataFrame` if you subsetted multiple columns). You can convert it to a NumPy array with the `to_numpy()` method."
   ]
  },
  {
   "cell_type": "code",
   "execution_count": 20,
   "id": "fc5c439c",
   "metadata": {},
   "outputs": [
    {
     "name": "stdout",
     "output_type": "stream",
     "text": [
      "[1.22 1.79 1.   ... 1.48 0.67 1.35]\n"
     ]
    },
    {
     "ename": "TypeError",
     "evalue": "'str' object is not callable",
     "output_type": "error",
     "traceback": [
      "\u001b[1;31m---------------------------------------------------------------------------\u001b[0m",
      "\u001b[1;31mTypeError\u001b[0m                                 Traceback (most recent call last)",
      "Cell \u001b[1;32mIn[20], line 3\u001b[0m\n\u001b[0;32m      1\u001b[0m average_price_numpy \u001b[38;5;241m=\u001b[39m avocados[\u001b[38;5;124m\"\u001b[39m\u001b[38;5;124maverage_price\u001b[39m\u001b[38;5;124m\"\u001b[39m]\u001b[38;5;241m.\u001b[39mto_numpy()\n\u001b[0;32m      2\u001b[0m \u001b[38;5;28mprint\u001b[39m(average_price_numpy)\n\u001b[1;32m----> 3\u001b[0m \u001b[38;5;28mprint\u001b[39m(\u001b[38;5;28mtype\u001b[39m(average_price_numpy))\n\u001b[0;32m      4\u001b[0m \u001b[38;5;28mprint\u001b[39m(average_price_numpy\u001b[38;5;241m.\u001b[39mshape)\n",
      "\u001b[1;31mTypeError\u001b[0m: 'str' object is not callable"
     ]
    }
   ],
   "source": [
    "average_price_numpy = avocados[\"average_price\"].to_numpy()\n",
    "print(average_price_numpy)\n",
    "print(type(average_price_numpy))\n",
    "print(average_price_numpy.shape)"
   ]
  },
  {
   "cell_type": "markdown",
   "id": "c0f95ba5",
   "metadata": {},
   "source": [
    "This is all you need to know about Pandas to do this homework.\n",
    "Now let's get to the analysis."
   ]
  },
  {
   "cell_type": "markdown",
   "id": "092782f8",
   "metadata": {},
   "source": [
    "# Exercises\n",
    "\n",
    "This homework is divided into three parts. You need to write your answer whenever you see: *`# YOUR CODE`* comment in a code cell or **`YOUR ANSWER:`** in a markdown cell. Some of those cells already have some code in it to help you. (You should not modify the provided code.) The number of points for each question is indicated in parentheses following the question text."
   ]
  },
  {
   "cell_type": "markdown",
   "id": "e86876b1",
   "metadata": {},
   "source": [
    "## Part 1: Preliminary analysis (30 points)\n",
    "\n",
    "We are first going to explore the data. Feel free to use basic Python, NumPy, or Pandas library to solve the following questions."
   ]
  },
  {
   "cell_type": "markdown",
   "id": "6817b48f",
   "metadata": {},
   "source": [
    "1. How many entries correspond to conventional avocados and to organic avocados? (5 points)\n",
    "    - Note: you will need to access the `type` column.\n",
    "    - Your output should show the number of avocados for each type. "
   ]
  },
  {
   "cell_type": "code",
   "execution_count": null,
   "id": "de5f13c9",
   "metadata": {},
   "outputs": [
    {
     "name": "stdout",
     "output_type": "stream",
     "text": [
      "Number of Conventional Avocados: 16524\n",
      "Number of Organic Avocados: 16521\n"
     ]
    }
   ],
   "source": [
    "# YOUR CODE\n",
    "type_numpy = avocados[\"type\"].to_numpy()\n",
    "conventional = 0;\n",
    "organic = 0;\n",
    "for type in type_numpy:\n",
    "    if type == \"conventional\":\n",
    "        conventional += 1\n",
    "    else:\n",
    "        organic += 1\n",
    "\n",
    "print(\"Number of Conventional Avocados: \" + str(conventional))\n",
    "print(\"Number of Organic Avocados: \" + str(organic))"
   ]
  },
  {
   "cell_type": "markdown",
   "id": "3acb7015",
   "metadata": {},
   "source": [
    "2. Compute the average price of **conventional** and **organic** avocados. (7 points)\n",
    "    - Your code should output the average price for each type."
   ]
  },
  {
   "cell_type": "code",
   "execution_count": null,
   "id": "eb01eb45",
   "metadata": {},
   "outputs": [
    {
     "name": "stdout",
     "output_type": "stream",
     "text": [
      "Average Price of Conventional Avocados: 1.144735536189786\n",
      "Average Price of Organic Avocados: 1.615188547908717\n"
     ]
    }
   ],
   "source": [
    "# YOUR CODE\n",
    "type_avg_price = avocados[[\"type\", \"average_price\"]].to_numpy()\n",
    "conventional_price = 0.0;\n",
    "organic_price = 0.0;\n",
    "for array in type_avg_price:\n",
    "    if array[0] == \"conventional\":\n",
    "        conventional_price += array[1]\n",
    "    else:\n",
    "        organic_price += array[1]\n",
    "\n",
    "conventional_avg = conventional_price / conventional\n",
    "organic_avg = organic_price / organic\n",
    "print(\"Average Price of Conventional Avocados: \" + str(conventional_avg))\n",
    "print(\"Average Price of Organic Avocados: \" + str(organic_avg))"
   ]
  },
  {
   "cell_type": "markdown",
   "id": "426fbcb1",
   "metadata": {},
   "source": [
    "3. Make a subset of the data to restrict the entries to **organic** avocados sold in **California** or **New York**. Do not erase the `avocado` DataFrame; store it in a new variable. (7 points)\n",
    "    - The extracted subset should contain all six columns of the entries that meet the given condition."
   ]
  },
  {
   "cell_type": "code",
   "execution_count": null,
   "id": "7aa9d948",
   "metadata": {},
   "outputs": [
    {
     "name": "stdout",
     "output_type": "stream",
     "text": [
      "             date  average_price  total_volume     type  year   geography\n",
      "13     2015-01-04           1.24     142349.77  organic  2015  California\n",
      "57     2015-01-04           1.93      17328.24  organic  2015    New York\n",
      "121    2015-01-11           1.10     158110.68  organic  2015  California\n",
      "165    2015-01-11           2.03      14817.97  organic  2015    New York\n",
      "229    2015-01-18           1.24     195207.60  organic  2015  California\n",
      "...           ...            ...           ...      ...   ...         ...\n",
      "32778  2020-11-15           1.74      85237.07  organic  2020    New York\n",
      "32842  2020-11-22           1.68     331997.12  organic  2020  California\n",
      "32886  2020-11-22           1.73      77643.64  organic  2020    New York\n",
      "32950  2020-11-29           1.76     305744.58  organic  2020  California\n",
      "32994  2020-11-29           1.73      69523.99  organic  2020    New York\n",
      "\n",
      "[612 rows x 6 columns]\n"
     ]
    }
   ],
   "source": [
    "# YOUR CODE\n",
    "organic_cali_ny = avocados[(avocados[\"type\"] == \"organic\") & (avocados[\"geography\"].isin([\"California\", \"New York\"]))]\n",
    "print(organic_cali_ny)"
   ]
  },
  {
   "cell_type": "markdown",
   "id": "e423a1e1",
   "metadata": {},
   "source": [
    "4. Make a **scatter plot** of the `average_price` (x-axis) and the `total_volume` of avocados sold (y-axis) using the subsetted data from Question 3. Color the points by region (\"California\" or \"New York\"). (11 points)\n",
    "    - Hint 1: you can use [plt.scatter](https://matplotlib.org/stable/api/_as_gen/matplotlib.pyplot.scatter.html) to do the plot.\n",
    "    - Hint 2: You can color the points either by using the `c` argument of `plt.scatter()` (see the documentation) or calling the `plt.scatter()` function once for each group.\n",
    "    - Extra credits (up to 2 points) will be given if the axes are labeled correctly and if a legend is provided."
   ]
  },
  {
   "cell_type": "code",
   "execution_count": null,
   "id": "2191c5da",
   "metadata": {},
   "outputs": [
    {
     "data": {
      "text/plain": [
       "<matplotlib.legend.Legend at 0x24312301160>"
      ]
     },
     "execution_count": 10,
     "metadata": {},
     "output_type": "execute_result"
    },
    {
     "data": {
      "image/png": "[encoded data removed]",
      "text/plain": [
       "<Figure size 640x480 with 1 Axes>"
      ]
     },
     "metadata": {},
     "output_type": "display_data"
    }
   ],
   "source": [
    "# YOUR CODE\n",
    "import matplotlib.pyplot as plt\n",
    "avg_price_cali_ny = organic_cali_ny[\"average_price\"].to_numpy()\n",
    "total_vol_cali_ny = organic_cali_ny[\"total_volume\"].to_numpy()\n",
    "geography_cali_ny = organic_cali_ny[\"geography\"].to_numpy()\n",
    "\n",
    "plt.scatter(avg_price_cali_ny[geography_cali_ny == \"California\"], total_vol_cali_ny[geography_cali_ny == \"California\"], color = \"red\", label = \"California\")\n",
    "plt.scatter(avg_price_cali_ny[geography_cali_ny == \"New York\"], total_vol_cali_ny[geography_cali_ny == \"New York\"], color = \"blue\", label = \"New York\")\n",
    "plt.xlabel(\"Average Price\")\n",
    "plt.ylabel(\"Total Volume\")\n",
    "plt.legend()"
   ]
  },
  {
   "cell_type": "markdown",
   "id": "3068554a",
   "metadata": {},
   "source": [
    "## Part 2: Classification with the K-NN algorithm (30 points)\n",
    "\n",
    "In the previous plot, we saw that the variables `total_volume` and `average_price` might be interesting features to distinguish regions. We will use the K-NN classification algorithm to use those features to predict the locations. To simplify the problem, we will only use the organic avocados for the regions of California and New York.\n",
    "\n",
    "Let's first subset our dataset with the columns of interest:"
   ]
  },
  {
   "cell_type": "code",
   "execution_count": null,
   "id": "4e6260ed",
   "metadata": {},
   "outputs": [
    {
     "name": "stdout",
     "output_type": "stream",
     "text": [
      "(612, 2) (612,)\n"
     ]
    }
   ],
   "source": [
    "features = [\"total_volume\", \"average_price\"]\n",
    "target = \"geography\"\n",
    "regions = {\"California\", \"New York\"}\n",
    "\n",
    "avocado_subset = avocados[(avocados[\"geography\"].isin(regions)) & (avocados[\"type\"] == \"organic\")]\n",
    "X = avocado_subset[features].to_numpy()\n",
    "y = avocado_subset[target].to_numpy()\n",
    "\n",
    "print(X.shape, y.shape)"
   ]
  },
  {
   "cell_type": "markdown",
   "id": "85a92c14",
   "metadata": {},
   "source": [
    "1. Implement the K-NN classification algorithm using basic Python and/or NumPy. (15 points).\n",
    "    - **IMPORTANT: Use of scikit-learn library is not allowed for this question.**\n",
    "    - Complete the function `predict_class_knn` below.\n",
    "    - Help: K-NN classifier can be implemented in the following way: \n",
    "        1. Compute the distance between the test point and the training data. (Already provided in the code below.)\n",
    "        2. Extract the k closest points.\n",
    "        3. Make a majority vote among the classes of those k closest points."
   ]
  },
  {
   "cell_type": "code",
   "execution_count": null,
   "id": "50ad24e9",
   "metadata": {},
   "outputs": [],
   "source": [
    "def predict_class_knn(X, y, point, k = 10):\n",
    "    \"\"\"\n",
    "    Predict the class membership of {point} using the {k} nearest neighbors in {X} and their class membership in {y}\n",
    "    \n",
    "    X (numpy.array):     (n_samples, n_features) array \n",
    "    y (numpy.array):     (n_samples) class membership\n",
    "    point (float tuple): features of a new data point to predict\n",
    "    k (integer):         Number of neighbors to use\n",
    "    \n",
    "    Returns: the predicted label for {point}\n",
    "    \"\"\"\n",
    "    \n",
    "    # Part A: Computing the distance b/w the training data and the test point\n",
    "    distance_to_point = np.mean((X - point)**2, axis=1)\n",
    "    \n",
    "    # YOUR CODE for parts B and C\n",
    "    indices = np.argsort(distance_to_point)\n",
    "    top_k = indices[:k]\n",
    "    values = y[top_k]\n",
    "\n",
    "    num_cali = 0;\n",
    "    num_ny = 0;\n",
    "    \n",
    "    for value in values:\n",
    "        if value == \"California\":\n",
    "            num_cali += 1\n",
    "        else:\n",
    "            num_ny += 1\n",
    "\n",
    "    if num_cali > num_ny:\n",
    "        class_label = \"California\"\n",
    "    else:\n",
    "        class_label = \"New York\"\n",
    "    \n",
    "    return class_label"
   ]
  },
  {
   "cell_type": "markdown",
   "id": "725b1ba8",
   "metadata": {},
   "source": [
    "2.  To evaluate the performance of our model, we need to split our data into training and testing sets. Using the `scikit-learn` library, split the data into **70%** training and **30%** testing. In order to make the results consistent for everyone, use a `random state` of `42`. The train and test data generated in this question will be used throughout the rest of this homework. (5 points)"
   ]
  },
  {
   "cell_type": "code",
   "execution_count": null,
   "id": "95105598",
   "metadata": {},
   "outputs": [
    {
     "name": "stdout",
     "output_type": "stream",
     "text": [
      "X_train size: (428, 2)\n",
      "y_train size: (428,)\n",
      "X_test size: (184, 2)\n",
      "y_test size: (184,)\n"
     ]
    }
   ],
   "source": [
    "# YOUR CODE\n",
    "from sklearn.model_selection import train_test_split\n",
    "\n",
    "X_train, X_test, y_train, y_test = train_test_split(X, y, random_state = 42, train_size = 0.7)\n",
    "\n",
    "print(f'X_train size: {X_train.shape}')\n",
    "print(f'y_train size: {y_train.shape}')\n",
    "print(f'X_test size: {X_test.shape}')\n",
    "print(f'y_test size: {y_test.shape}')"
   ]
  },
  {
   "cell_type": "markdown",
   "id": "a0a56e06",
   "metadata": {},
   "source": [
    "3. We will now test your implementation of K-NN from Question 1 on the test split from Question 2. Use `k = 13`. (10 points)\n",
    "   1. How many points were correctly classified and how many were incorrectly classified?\n",
    "   2. What is the model accuracy and precision? (Use \"California\" as the positive label for precision calculation.)"
   ]
  },
  {
   "cell_type": "code",
   "execution_count": 21,
   "id": "aa96fa78",
   "metadata": {},
   "outputs": [
    {
     "name": "stdout",
     "output_type": "stream",
     "text": [
      "Number of Correct Points: 151\n",
      "Number of Incorrect Points: 33\n",
      "Accuracy of the Model : 0.8206521739130435\n",
      "Precision of the Model : 0.8469387755102041\n"
     ]
    }
   ],
   "source": [
    "# YOUR CODE\n",
    "import numpy as np\n",
    "\n",
    "prediction = np.array([predict_class_knn(X_train, y_train, point, 13) for point in X_test])\n",
    "num_correct = np.sum(prediction == y_test)\n",
    "num_incorrect = np.sum(prediction != y_test)\n",
    "\n",
    "print(\"Number of Correct Points: \" + str(num_correct))\n",
    "print(\"Number of Incorrect Points: \" + str(num_incorrect))\n",
    "\n",
    "test_cali = (y_test == \"California\")\n",
    "prediction_cali = (prediction == \"California\")\n",
    "true_positive = np.sum((prediction == \"California\") & (y_test == \"California\"))\n",
    "false_positive = np.sum((prediction == \"California\") & (y_test == \"New York\"))\n",
    "\n",
    "accuracy = num_correct / y_test.size\n",
    "precision = (true_positive)/(true_positive + false_positive)\n",
    "\n",
    "print(\"Accuracy of the Model : \" + str(accuracy))\n",
    "print(\"Precision of the Model : \" + str(precision))"
   ]
  },
  {
   "cell_type": "markdown",
   "id": "249f77fb",
   "metadata": {},
   "source": [
    "## Part 3: Choice of the number of neighbors (40 points)\n",
    "\n",
    "We want now to find the optimal number of neighbors to solve the previous problem. In this section, you will be required to use the `scikit-learn` library for the K-NN classifier implementation. (Do NOT use your own code from Question 1 of Part 2.)\n",
    "\n",
    "1. Compute the test accuracy for `k = 1`, `k = 13`, and `k = len(X_train)`. (10 points)"
   ]
  },
  {
   "cell_type": "code",
   "execution_count": 22,
   "id": "0e9d28eb",
   "metadata": {},
   "outputs": [
    {
     "name": "stdout",
     "output_type": "stream",
     "text": [
      "For k = 1\n",
      "Accuracy on test set: 0.810\n",
      "Accuracy on training set: 1.000\n",
      "For k = 13\n",
      "Accuracy on test set: 0.821\n",
      "Accuracy on training set: 0.895\n",
      "For k = len(X_train)\n",
      "Accuracy on test set: 0.451\n",
      "Accuracy on training set: 0.521\n"
     ]
    }
   ],
   "source": [
    "# YOUR CODE\n",
    "from sklearn.neighbors import KNeighborsClassifier\n",
    "\n",
    "clf = KNeighborsClassifier(n_neighbors = 1)\n",
    "clf.fit(X_train, y_train)\n",
    "\n",
    "print(\"For k = 1\")\n",
    "print(f\"Accuracy on test set: {clf.score(X_test, y_test):.3f}\")\n",
    "print(f\"Accuracy on training set: {clf.score(X_train, y_train):.3f}\")\n",
    "\n",
    "clf = KNeighborsClassifier(n_neighbors = 13)\n",
    "clf.fit(X_train, y_train)\n",
    "\n",
    "print(\"For k = 13\")\n",
    "print(f\"Accuracy on test set: {clf.score(X_test, y_test):.3f}\")\n",
    "print(f\"Accuracy on training set: {clf.score(X_train, y_train):.3f}\")\n",
    "\n",
    "clf = KNeighborsClassifier(n_neighbors = len(X_train))\n",
    "clf.fit(X_train, y_train)\n",
    "\n",
    "print(\"For k = len(X_train)\")\n",
    "print(f\"Accuracy on test set: {clf.score(X_test, y_test):.3f}\")\n",
    "print(f\"Accuracy on training set: {clf.score(X_train, y_train):.3f}\")"
   ]
  },
  {
   "cell_type": "markdown",
   "id": "e765394b",
   "metadata": {},
   "source": [
    "2. Why do you think the accuracies for `k = 1` and `k = len(X_train)` are worse than for `k = 13`? (7 points)"
   ]
  },
  {
   "cell_type": "markdown",
   "id": "b2a7b50a",
   "metadata": {},
   "source": [
    ">**YOUR ANSWER:**\n",
    "> The k-values k = 1 and k = len(X_train) have worse accuracies due to the fact that these k-values are extreme cases. When k = 1, the model is overfitting. On the other hand, when k = len(X_train), the model is underfitting. For k = 1, the algorithm is only considering the closest neighbor to our test point. The model is complex since the decision boundary is more variable/jagged. The accuracy is also more sensitive to outliers and noise since there is no consensus to cancel that effect. For example, if we were to have a New York point within the California point cloud, it could potentially affect many prediction in the area where the outlier lies. The decision boundary would also be changed around those outlier points. For k = len(X_train), the algorithm takes all of the training points to make a consensus vote. This is an example of underfitting: the decision is the same wherever the test point lands; the prediction will always the most common label"
   ]
  },
  {
   "cell_type": "markdown",
   "id": "ee26dd2d",
   "metadata": {},
   "source": [
    "3. Using a 10-fold cross-validation approach, find the optimal value of `k`. Use the range of values for `k` provided in the code below. This may take for a while to run. (13 points)"
   ]
  },
  {
   "cell_type": "code",
   "execution_count": 23,
   "id": "32b693c5",
   "metadata": {},
   "outputs": [
    {
     "name": "stdout",
     "output_type": "stream",
     "text": [
      "Best mean cross-validation score: 0.893\n",
      "Best n_neighbors: 11\n",
      "Test Accuracy: 0.810\n"
     ]
    }
   ],
   "source": [
    "k_values = list(range(1, int(0.9*len(X_train)), 5))\n",
    "\n",
    "# YOUR CODE\n",
    "from sklearn.model_selection import cross_validate\n",
    "\n",
    "train_scores = []\n",
    "test_scores = []\n",
    "\n",
    "for k in k_values:\n",
    "    clf = KNeighborsClassifier(n_neighbors = k)\n",
    "    scores = cross_validate(clf, X_train, y_train, cv = 10, return_train_score = True)\n",
    "    train_scores.append(scores[\"train_score\"].mean())\n",
    "    test_scores.append(scores[\"test_score\"].mean())\n",
    "\n",
    "best_k_idx = np.argmax(test_scores)\n",
    "best_k = k_values[best_k_idx]\n",
    "print(f\"Best mean cross-validation score: {np.max(test_scores):.3f}\")\n",
    "print(f\"Best n_neighbors: {best_k}\")\n",
    "\n",
    "clf = KNeighborsClassifier(n_neighbors = best_k)\n",
    "clf.fit(X_train, y_train)\n",
    "print(f\"Test Accuracy: {clf.score(X_test, y_test):.3f}\")"
   ]
  },
  {
   "cell_type": "markdown",
   "id": "7370d197",
   "metadata": {},
   "source": [
    "4. Plot the **mean** test (validation score from the cross-validation in Question 3) and train accuracies (y-axis) for each value of `k` (x-axis) in a single plot. Use a different color for the train and test accuracy. (5 points)"
   ]
  },
  {
   "cell_type": "code",
   "execution_count": 24,
   "id": "53043648",
   "metadata": {},
   "outputs": [
    {
     "data": {
      "text/plain": [
       "<matplotlib.legend.Legend at 0x2431238d610>"
      ]
     },
     "execution_count": 24,
     "metadata": {},
     "output_type": "execute_result"
    },
    {
     "data": {
      "image/png": "[encoded data removed]",
      "text/plain": [
       "<Figure size 640x480 with 1 Axes>"
      ]
     },
     "metadata": {},
     "output_type": "display_data"
    }
   ],
   "source": [
    "# YOUR CODE\n",
    "plt.plot(k_values, test_scores, color = \"purple\", label = \"Mean Test Accuracy\")\n",
    "plt.plot(k_values, train_scores, color = \"green\", label = \"Mean Train Accuracy\")\n",
    "plt.xlabel(\"K-values\")\n",
    "plt.ylabel(\"Accuracy\")\n",
    "plt.legend()"
   ]
  },
  {
   "cell_type": "markdown",
   "id": "00e8c1ef",
   "metadata": {},
   "source": [
    "5. Why is the training accuracy perfect (100%) for `k = 1`? (5 points)"
   ]
  },
  {
   "cell_type": "markdown",
   "id": "78868553",
   "metadata": {},
   "source": [
    ">**YOUR ANSWER:**\n",
    "> In this case, the closest neighbor of a training point is the point itself. With k = 1, the model will always predict the correct label (since it already knows the label and only takes into account the closest point)."
   ]
  }
 ],
 "metadata": {
  "kernelspec": {
   "display_name": "base",
   "language": "python",
   "name": "python3"
  },
  "language_info": {
   "codemirror_mode": {
    "name": "ipython",
    "version": 3
   },
   "file_extension": ".py",
   "mimetype": "text/x-python",
   "name": "python",
   "nbconvert_exporter": "python",
   "pygments_lexer": "ipython3",
   "version": "3.12.4"
  }
 },
 "nbformat": 4,
 "nbformat_minor": 5
}
