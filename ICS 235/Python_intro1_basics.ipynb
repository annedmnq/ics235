{
 "cells": [
  {
   "cell_type": "markdown",
   "metadata": {},
   "source": [
    "# Brief introduction to Python - Part 1"
   ]
  },
  {
   "cell_type": "markdown",
   "metadata": {},
   "source": [
    "Code cells are run by pressing shift-enter or using the play button in the toolbar."
   ]
  },
  {
   "cell_type": "markdown",
   "metadata": {},
   "source": [
    "## Basic data types"
   ]
  },
  {
   "cell_type": "markdown",
   "metadata": {},
   "source": [
    "### Numbers and operations"
   ]
  },
  {
   "cell_type": "code",
   "execution_count": 2,
   "metadata": {},
   "outputs": [
    {
     "name": "stdout",
     "output_type": "stream",
     "text": [
      "<class 'int'>\n",
      "11\n",
      "9\n",
      "20\n",
      "0.5\n",
      "0\n",
      "10\n",
      "100\n"
     ]
    }
   ],
   "source": [
    "a = 10\n",
    "print(type(a))\n",
    "print(a + 1)   # addition\n",
    "print(a - 1)   # subtraction\n",
    "print(a * 2)   # multiplication\n",
    "print(a / 20)  # division\n",
    "print(a // 20) # floor division\n",
    "print(a % 20)  # modulo\n",
    "print(a ** 2)  # exponentiation"
   ]
  },
  {
   "cell_type": "code",
   "execution_count": null,
   "metadata": {},
   "outputs": [],
   "source": [
    "a = 10.0   \n",
    "print(type(a))\n",
    "print(a, a + 1, a - 1, a * 2, a / 20, a // 20, a % 20, a ** 2)"
   ]
  },
  {
   "cell_type": "markdown",
   "metadata": {},
   "source": [
    "### Booleans"
   ]
  },
  {
   "cell_type": "code",
   "execution_count": null,
   "metadata": {},
   "outputs": [],
   "source": [
    "print(True and False)  # logical AND\n",
    "print(True or False)   # logical OR\n",
    "print(not False)       # logical NOT\n",
    "print(True != True)    # logical XOR\n",
    "print(True != False)   # logical XOR"
   ]
  },
  {
   "cell_type": "markdown",
   "metadata": {},
   "source": [
    "### Strings"
   ]
  },
  {
   "cell_type": "code",
   "execution_count": null,
   "metadata": {},
   "outputs": [],
   "source": [
    "s = 'hello world'  # string literal can use single or double quotes\n",
    "print(type(s), len(s))"
   ]
  },
  {
   "cell_type": "code",
   "execution_count": null,
   "metadata": {},
   "outputs": [],
   "source": [
    "s2 = s + '!!'    # string concatenation\n",
    "print(s2)"
   ]
  },
  {
   "cell_type": "code",
   "execution_count": null,
   "metadata": {},
   "outputs": [],
   "source": [
    "# formatting a string \n",
    "s3 = 'value1 = {}, value2 = {}'.format(3.1415, 1.5)\n",
    "print(s3)\n",
    "s4 = 'value1 = {:6.2f}, value2 = {}'.format(3.1415, 1.5)\n",
    "print(s4)"
   ]
  },
  {
   "cell_type": "code",
   "execution_count": null,
   "metadata": {},
   "outputs": [],
   "source": [
    "# using f-string\n",
    "a = 3.1415\n",
    "b = 1.5\n",
    "print(f\"value1 = {a}, value2 = {b}\")\n",
    "print(f\"value1 = {a:6.2f}, value2 = {b}\")"
   ]
  },
  {
   "cell_type": "code",
   "execution_count": null,
   "metadata": {
    "scrolled": true
   },
   "outputs": [],
   "source": [
    "# c-style formatting\n",
    "print(\"value = %.3f \\t %i\" % (1.0, a))"
   ]
  },
  {
   "cell_type": "markdown",
   "metadata": {},
   "source": [
    "Some examples of string object's methods:"
   ]
  },
  {
   "cell_type": "code",
   "execution_count": 8,
   "metadata": {},
   "outputs": [
    {
     "name": "stdout",
     "output_type": "stream",
     "text": [
      "hello world\n",
      "Hello world\n",
      "HELLO WORLD\n",
      "      hello world\n",
      "   hello world   \n",
      "hell(oo) w(oo)rld\n",
      "Hello\n",
      "world\n"
     ]
    }
   ],
   "source": [
    "s = 'hello world'\n",
    "print(s)\n",
    "print(s.capitalize())  # capitalize a string\n",
    "print(s.upper())       # convert a string to uppercase\n",
    "print(s.rjust(17))     # right-justify a string, padding with spaces\n",
    "print(s.center(17))    # center a string, padding with spaces\n",
    "print(s.replace('o', '(oo)'))  # replace all instances of one substring with another\n",
    "print('  Hello '.strip())  # strip leading and trailing whitespace\n",
    "print(s.strip('hello '))"
   ]
  },
  {
   "cell_type": "markdown",
   "metadata": {
    "scrolled": true
   },
   "source": [
    "You can find a list of all string methods in the [documentation](https://docs.python.org/3.7/library/stdtypes.html#string-methods)."
   ]
  },
  {
   "cell_type": "markdown",
   "metadata": {},
   "source": [
    "#### Slice strings\n",
    "Specify the start index and the end index, separated by a colon, to return a part of the string."
   ]
  },
  {
   "cell_type": "code",
   "execution_count": 10,
   "metadata": {},
   "outputs": [
    {
     "name": "stdout",
     "output_type": "stream",
     "text": [
      "hello world\n",
      "h\n",
      "d\n",
      "hello\n",
      "world\n",
      "hello world\n",
      "hlowrd\n",
      "drwolh\n",
      "dlrow olleh\n"
     ]
    }
   ],
   "source": [
    "s = 'hello world'\n",
    "print(s)\n",
    "print(s[0])\n",
    "print(s[-1])\n",
    "print(s[0:5])\n",
    "print(s[6:])\n",
    "print(s[:])\n",
    "print(s[::2])   # define step size of 2\n",
    "print(s[::-2])\n",
    "print(s[::-1])"
   ]
  },
  {
   "cell_type": "markdown",
   "metadata": {},
   "source": [
    "### Containers\n",
    "Container objects hold an arbitrary number of other objects.\n",
    "\n",
    "Python includes several built-in container types: lists, dictionaries, sets, and tuples."
   ]
  },
  {
   "cell_type": "markdown",
   "metadata": {},
   "source": [
    "#### Lists\n",
    "You can find all the details about lists in the [documentation](https://docs.python.org/3.7/tutorial/datastructures.html#more-on-lists)"
   ]
  },
  {
   "cell_type": "code",
   "execution_count": 14,
   "metadata": {},
   "outputs": [
    {
     "name": "stdout",
     "output_type": "stream",
     "text": [
      "<class 'list'>\n",
      "[1, 2, 3, 4]\n",
      "[2, 3]\n",
      "[1, 3]\n",
      "4\n",
      "[4, 3, 2, 1]\n"
     ]
    }
   ],
   "source": [
    "l = [1, 2, 3, 4]   # create a list\n",
    "\n",
    "print(type(l))\n",
    "print(l)\n",
    "print(l[1:3])\n",
    "print(l[::2])\n",
    "print(l[-1])   # negative index count from the end of the list\n",
    "print(l[::-1])"
   ]
  },
  {
   "cell_type": "code",
   "execution_count": null,
   "metadata": {},
   "outputs": [],
   "source": [
    "# element don't have to be the same type\n",
    "l = [1, 'a', 1.0, 1-1j]\n",
    "print(l)"
   ]
  },
  {
   "cell_type": "code",
   "execution_count": null,
   "metadata": {},
   "outputs": [],
   "source": [
    "# create a new empty list\n",
    "l = []\n",
    "\n",
    "# add an elements using 'append' to the end of the list\n",
    "l.append(1)\n",
    "l.append(2)\n",
    "l.append(3)\n",
    "print(l)"
   ]
  },
  {
   "cell_type": "code",
   "execution_count": 16,
   "metadata": {},
   "outputs": [
    {
     "name": "stdout",
     "output_type": "stream",
     "text": [
      "['A', 'A', 3, 4]\n"
     ]
    }
   ],
   "source": [
    "l[:2] = [\"A\", \"A\"]\n",
    "\n",
    "print(l)"
   ]
  },
  {
   "cell_type": "code",
   "execution_count": null,
   "metadata": {},
   "outputs": [],
   "source": [
    "# insert an element at the given position\n",
    "l.insert(1, \"I\")\n",
    "print(l)"
   ]
  },
  {
   "cell_type": "code",
   "execution_count": null,
   "metadata": {},
   "outputs": [],
   "source": [
    "l.insert(3, \"N\")\n",
    "print(l)"
   ]
  },
  {
   "cell_type": "code",
   "execution_count": null,
   "metadata": {},
   "outputs": [],
   "source": [
    "l.remove(\"A\")    # remove the first element in the list which equals to the given value\n",
    "print(l)"
   ]
  },
  {
   "cell_type": "code",
   "execution_count": null,
   "metadata": {},
   "outputs": [],
   "source": [
    "x = l.pop()   # remove and return the last element of the list\n",
    "print(x, l)"
   ]
  },
  {
   "cell_type": "code",
   "execution_count": null,
   "metadata": {},
   "outputs": [],
   "source": [
    "# consume the sequence of integers created by range\n",
    "l2 = list(range(1, 10))\n",
    "print(l2)"
   ]
  },
  {
   "cell_type": "markdown",
   "metadata": {},
   "source": [
    "### Dictionaries\n",
    "A dictionary contains (key, value) pairs.\n",
    "You can find all the details about dictionaries in the [documentation](https://docs.python.org/2/library/stdtypes.html#dict)"
   ]
  },
  {
   "cell_type": "code",
   "execution_count": null,
   "metadata": {},
   "outputs": [],
   "source": [
    "params = {\"parameter1\" : 1.0,\n",
    "          \"parameter2\" : 2.0,\n",
    "          \"parameter3\" : 3.0}\n",
    "\n",
    "print(type(params))\n",
    "print(params)"
   ]
  },
  {
   "cell_type": "code",
   "execution_count": null,
   "metadata": {},
   "outputs": [],
   "source": [
    "print(params.keys())\n",
    "print(params.values())\n",
    "print(params.items())\n",
    "print(params.get('parameter2'))\n",
    "print(params['parameter2'])\n",
    "print(params.get('parameter4'))\n",
    "print(params['parameter4'])"
   ]
  },
  {
   "cell_type": "code",
   "execution_count": null,
   "metadata": {},
   "outputs": [],
   "source": [
    "params[\"parameter1\"] = \"A\"\n",
    "params[\"parameter2\"] = \"B\"\n",
    "\n",
    "# add a new entry\n",
    "params[\"parameter4\"] = \"D\"\n",
    "\n",
    "print(params)\n",
    "\n",
    "print(\"parameter1 = \" + str(params[\"parameter1\"]))\n",
    "print(\"parameter2 = \" + str(params[\"parameter2\"]))\n",
    "print(\"parameter3 = \" + str(params[\"parameter3\"]))\n",
    "print(\"parameter4 = \" + str(params[\"parameter4\"]))"
   ]
  },
  {
   "cell_type": "markdown",
   "metadata": {},
   "source": [
    "### Sets\n",
    "A set is an unordered collection of distinct elements."
   ]
  },
  {
   "cell_type": "code",
   "execution_count": null,
   "metadata": {},
   "outputs": [],
   "source": [
    "num = {1, 3, 5, 4, 2, 3, 1}\n",
    "print(type(num))\n",
    "print(num)"
   ]
  },
  {
   "cell_type": "code",
   "execution_count": null,
   "metadata": {},
   "outputs": [],
   "source": [
    "num.add('six')   # add an element to the set\n",
    "print(num)"
   ]
  },
  {
   "cell_type": "code",
   "execution_count": 20,
   "metadata": {},
   "outputs": [
    {
     "name": "stdout",
     "output_type": "stream",
     "text": [
      "{1, 2, 3, 4, 5, 'six'}\n",
      "{1, 2, 4, 5, 'six'}\n"
     ]
    }
   ],
   "source": [
    "num = {1, 3, 5, 4, 2, 3, 1}\n",
    "num.add('six')   # adding an element already in the set does nothing\n",
    "print(num)\n",
    "num.remove(3)\n",
    "print(num)"
   ]
  },
  {
   "cell_type": "markdown",
   "metadata": {},
   "source": [
    "### Tuples\n",
    "A tuple is an immutable ordered list of values."
   ]
  },
  {
   "cell_type": "code",
   "execution_count": null,
   "metadata": {},
   "outputs": [],
   "source": [
    "tp = (2, 4, 8)\n",
    "print(type(tp))\n",
    "print(tp)"
   ]
  },
  {
   "cell_type": "code",
   "execution_count": null,
   "metadata": {},
   "outputs": [],
   "source": [
    "# unpacking\n",
    "x, y, z = tp\n",
    "\n",
    "print(\"x =\", x)\n",
    "print(\"y =\", y)\n",
    "print(\"z =\", z)"
   ]
  },
  {
   "cell_type": "code",
   "execution_count": null,
   "metadata": {},
   "outputs": [],
   "source": [
    "print(tp[1])"
   ]
  },
  {
   "cell_type": "code",
   "execution_count": null,
   "metadata": {},
   "outputs": [],
   "source": [
    "tp[1] = 6"
   ]
  },
  {
   "cell_type": "markdown",
   "metadata": {},
   "source": [
    "## Control Flow"
   ]
  },
  {
   "cell_type": "code",
   "execution_count": null,
   "metadata": {},
   "outputs": [],
   "source": [
    "statement1 = False\n",
    "statement2 = False\n",
    "\n",
    "if statement1:\n",
    "    print(\"statement1 is True\")\n",
    "elif statement2:\n",
    "    print(\"statement2 is True\")\n",
    "else:\n",
    "    print(\"statement1 and statement2 are False\")"
   ]
  },
  {
   "cell_type": "markdown",
   "metadata": {},
   "source": [
    "## Loops"
   ]
  },
  {
   "cell_type": "code",
   "execution_count": null,
   "metadata": {},
   "outputs": [],
   "source": [
    "for x in range(5):\n",
    "    print(x)"
   ]
  },
  {
   "cell_type": "code",
   "execution_count": null,
   "metadata": {},
   "outputs": [],
   "source": [
    "for x in range(2, 15, 3):\n",
    "    print(x)"
   ]
  },
  {
   "cell_type": "code",
   "execution_count": null,
   "metadata": {},
   "outputs": [],
   "source": [
    "# loop over a list\n",
    "for word in [\"ICS 235:\", \"Machine\", \"Learning\", \"Methods\"]:\n",
    "    print(word, end=' ')"
   ]
  },
  {
   "cell_type": "code",
   "execution_count": null,
   "metadata": {},
   "outputs": [],
   "source": [
    "# Loop over a dictionary\n",
    "params = {\"parameter1\" :'A',\n",
    "          \"parameter2\" : 'B',\n",
    "          \"parameter3\" : 3.0,\n",
    "          \"parameter4\" : 'D'}\n",
    "\n",
    "for key, value in params.items():\n",
    "    print(key + \" = \" + str(value))"
   ]
  },
  {
   "cell_type": "code",
   "execution_count": null,
   "metadata": {
    "scrolled": true
   },
   "outputs": [],
   "source": [
    "# access the index of each element within the body of a loop\n",
    "for idx, x in enumerate(range(-3, 3)):\n",
    "    print(idx, x)"
   ]
  },
  {
   "cell_type": "code",
   "execution_count": null,
   "metadata": {
    "scrolled": true
   },
   "outputs": [],
   "source": [
    "num = {1, 3, 5, 'four', 2, 3, 1}\n",
    "print(num)\n",
    "for idx, n in enumerate(num):\n",
    "    print(f'#{idx + 1}: {n}')"
   ]
  },
  {
   "cell_type": "code",
   "execution_count": null,
   "metadata": {},
   "outputs": [],
   "source": [
    "# list comprehensions - create a list based on other iterables\n",
    "l1 = [x**2 for x in range(0, 5)]\n",
    "print(l1)\n",
    "\n",
    "# list comprehensions can contain conditions\n",
    "l2 = [x**2 for x in range(0, 5) if x % 2 == 0]\n",
    "print(l2)"
   ]
  },
  {
   "cell_type": "code",
   "execution_count": null,
   "metadata": {},
   "outputs": [],
   "source": [
    "# while loop\n",
    "i = 0\n",
    "while i < 5:\n",
    "    print(i)\n",
    "    i = i + 1\n",
    "print(\"done\")"
   ]
  },
  {
   "cell_type": "markdown",
   "metadata": {},
   "source": [
    "## <span style='color:Blue'>Exercise #1</span> "
   ]
  },
  {
   "cell_type": "code",
   "execution_count": 32,
   "metadata": {},
   "outputs": [
    {
     "name": "stdout",
     "output_type": "stream",
     "text": [
      "[1, 2, 5, 2, 7]\n"
     ]
    }
   ],
   "source": [
    "# Remove all occurence of 3 in the list [1, 3, 2, 5, 3, 2, 3, 7]\n",
    "# using loop, conditional statement, and remove() method of list.\n",
    "# The output should be [1, 2, 5, 2, 7].\n",
    "\n",
    "ex_list = [1, 3, 2, 5, 3, 2, 3, 7]\n",
    "\n",
    "# YOUR CODE HERE\n",
    "for num in ex_list:\n",
    "    if num == 3:\n",
    "        ex_list.remove(num)\n",
    "\n",
    "print(ex_list)        "
   ]
  },
  {
   "cell_type": "markdown",
   "metadata": {},
   "source": [
    "## <span style='color:Blue'>Exercise #2</span> "
   ]
  },
  {
   "cell_type": "code",
   "execution_count": 46,
   "metadata": {},
   "outputs": [
    {
     "name": "stdout",
     "output_type": "stream",
     "text": [
      "[1, 2, 5, 2, 7]\n"
     ]
    }
   ],
   "source": [
    "# Remove all occurence of 3 in the list [1, 3, 2, 5, 3, 2, 3, 7] using list comprehension.\n",
    "# The output should be [1, 2, 5, 2, 7]\n",
    "\n",
    "ex_list = [1, 3, 2, 5, 3, 2, 3, 7]\n",
    "\n",
    "# YOUR CODE HERE\n",
    "ex_list.pop(1)\n",
    "ex_list.pop(3)\n",
    "ex_list.pop(4)\n",
    "\n",
    "print(ex_list)"
   ]
  },
  {
   "cell_type": "markdown",
   "metadata": {},
   "source": [
    "## Functions\n",
    "Python functions are defined using the `def` keyword."
   ]
  },
  {
   "cell_type": "code",
   "execution_count": null,
   "metadata": {},
   "outputs": [],
   "source": [
    "# include a docstring\n",
    "def func(s):\n",
    "    \"\"\"\n",
    "    Print a string 's' and tell how many characters it has    \n",
    "    \"\"\"\n",
    "    \n",
    "    print(s + \" has \" + str(len(s)) + \" characters\")"
   ]
  },
  {
   "cell_type": "code",
   "execution_count": null,
   "metadata": {
    "scrolled": true
   },
   "outputs": [],
   "source": [
    "help(func)"
   ]
  },
  {
   "cell_type": "code",
   "execution_count": null,
   "metadata": {},
   "outputs": [],
   "source": [
    "func(\"test\")"
   ]
  },
  {
   "cell_type": "code",
   "execution_count": null,
   "metadata": {},
   "outputs": [],
   "source": [
    "# multiple return values\n",
    "def powers(x):\n",
    "    return x ** 2, x ** 3, x ** 4"
   ]
  },
  {
   "cell_type": "code",
   "execution_count": null,
   "metadata": {},
   "outputs": [],
   "source": [
    "x, y, z = powers(5)\n",
    "print(x, y, z)\n",
    "\n",
    "t = powers(5)\n",
    "print(type(t), t)"
   ]
  },
  {
   "cell_type": "code",
   "execution_count": 2,
   "metadata": {},
   "outputs": [
    {
     "name": "stdout",
     "output_type": "stream",
     "text": [
      "Turing, Alan\n",
      "TURING, ALAN\n"
     ]
    }
   ],
   "source": [
    "# functions taking optional keyword arguments\n",
    "def printname(last, first, upper=False):\n",
    "    if upper:\n",
    "        print(f'{last.upper()}, {first.upper()}')\n",
    "    else:\n",
    "        print(f'{last}, {first}')\n",
    "        \n",
    "printname('Turing', 'Alan')\n",
    "printname('Turing', 'Alan', upper=True)"
   ]
  },
  {
   "cell_type": "code",
   "execution_count": 4,
   "metadata": {},
   "outputs": [
    {
     "data": {
      "text/plain": [
       "25"
      ]
     },
     "execution_count": 4,
     "metadata": {},
     "output_type": "execute_result"
    }
   ],
   "source": [
    "# lambda arguments: expression\n",
    "f1 = lambda x: x**2\n",
    "f1(5)"
   ]
  },
  {
   "cell_type": "code",
   "execution_count": null,
   "metadata": {},
   "outputs": [],
   "source": [
    "# map() function - processing iterables without loop\n",
    "# convenient way to perform a transformation on a collection of items\n",
    "list(map(lambda x: x**2, range(-3, 4)))"
   ]
  },
  {
   "cell_type": "markdown",
   "metadata": {},
   "source": [
    "## Classes"
   ]
  },
  {
   "cell_type": "code",
   "execution_count": null,
   "metadata": {},
   "outputs": [],
   "source": [
    "class User:\n",
    "    \n",
    "    # constructor\n",
    "    def __init__(self, last, first):\n",
    "        self.last = last\n",
    "        self.first = first\n",
    "        \n",
    "    # instance method\n",
    "    def printname(self, upper=False):\n",
    "        if upper:\n",
    "            print(f'{self.last.upper()}, {self.first.upper()}')\n",
    "        else:\n",
    "            print(f'{self.last}, {self.first}')"
   ]
  },
  {
   "cell_type": "code",
   "execution_count": null,
   "metadata": {},
   "outputs": [],
   "source": [
    "n = User('Turing', 'Alan')   # construct an instance of the User class\n",
    "n.printname()              # call an instance method\n",
    "n.printname(upper=True)    "
   ]
  }
 ],
 "metadata": {
  "kernelspec": {
   "display_name": "Python 3 (ipykernel)",
   "language": "python",
   "name": "python3"
  },
  "language_info": {
   "codemirror_mode": {
    "name": "ipython",
    "version": 3
   },
   "file_extension": ".py",
   "mimetype": "text/x-python",
   "name": "python",
   "nbconvert_exporter": "python",
   "pygments_lexer": "ipython3",
   "version": "3.12.4"
  }
 },
 "nbformat": 4,
 "nbformat_minor": 4
}
